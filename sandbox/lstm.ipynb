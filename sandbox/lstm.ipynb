{
 "cells": [
  {
   "cell_type": "markdown",
   "metadata": {},
   "source": [
    "# Introduction\n",
    "\n",
    "This model will serve as our first foray into time-series forecasting using LSTMs. We will be following [this tutorial](https://machinelearningmastery.com/multivariate-time-series-forecasting-lstms-keras/).\n",
    "\n",
    "The code will be broken into the following sections:\n",
    "\n",
    "```{raw}\n",
    "I. Data and Imports\n",
    "II. Data Processing\n",
    "    a. Cleaning data\n",
    "    b. Separating data into drives (drive_id)\n",
    "    c. Next-play feature\n",
    "III. Model Creation\n",
    "IV. Model Training\n",
    "V. Model Evaluation\n",
    "```"
   ]
  },
  {
   "cell_type": "markdown",
   "metadata": {},
   "source": [
    "# I. Data and Imports"
   ]
  },
  {
   "cell_type": "code",
   "execution_count": 207,
   "metadata": {},
   "outputs": [],
   "source": [
    "import numpy as np\n",
    "import tensorflow as tf\n",
    "import pandas as pd\n",
    "\n",
    "from tensorflow import keras\n",
    "from tensorflow.keras import layers\n",
    "from tensorflow.keras.models import Sequential\n",
    "\n",
    "from sklearn.model_selection import train_test_split"
   ]
  },
  {
   "cell_type": "code",
   "execution_count": 208,
   "metadata": {},
   "outputs": [],
   "source": [
    "BATCH_SIZE = 100\n",
    "EPOCHS = 10"
   ]
  },
  {
   "cell_type": "code",
   "execution_count": 209,
   "metadata": {},
   "outputs": [
    {
     "name": "stderr",
     "output_type": "stream",
     "text": [
      "/var/folders/c7/1qq7lbrd6p50qcnbj7skxq4c0000gn/T/ipykernel_68862/609794644.py:1: DtypeWarning: Columns (42,166,167,168,169,174,175,178,179,182,183,188,189,190,191,194,195,203,204,205,218,219,220,231,232,233,238,240,241,249) have mixed types. Specify dtype option on import or set low_memory=False.\n",
      "  data = pd.read_csv(\"../data/NFL_Play_by_Play_2009-2018_(v5).csv\")\n"
     ]
    }
   ],
   "source": [
    "data = pd.read_csv(\"../data/NFL_Play_by_Play_2009-2018_(v5).csv\")"
   ]
  },
  {
   "cell_type": "code",
   "execution_count": 210,
   "metadata": {},
   "outputs": [
    {
     "data": {
      "text/plain": [
       "['posteam',\n",
       " 'posteam_type',\n",
       " 'posteam_timeouts_remaining',\n",
       " 'posteam_score',\n",
       " 'posteam_score_post',\n",
       " 'defteam_score_post',\n",
       " 'score_differential_post',\n",
       " 'home_wp_post',\n",
       " 'away_wp_post']"
      ]
     },
     "execution_count": 210,
     "metadata": {},
     "output_type": "execute_result"
    }
   ],
   "source": [
    "[col for col in data.columns.to_list() if \"pos\" in col]"
   ]
  },
  {
   "cell_type": "markdown",
   "metadata": {},
   "source": [
    "# II. Data Processing"
   ]
  },
  {
   "cell_type": "markdown",
   "metadata": {},
   "source": [
    "## II.a Data Cleaning"
   ]
  },
  {
   "cell_type": "code",
   "execution_count": 211,
   "metadata": {},
   "outputs": [],
   "source": [
    "# Selecting only valid plays\n",
    "data = data[data['play_type'].notna()]"
   ]
  },
  {
   "cell_type": "code",
   "execution_count": 212,
   "metadata": {},
   "outputs": [],
   "source": [
    "# Dropping columns with too many missing values\n",
    "data = data.dropna(axis = 1, thresh=10000)"
   ]
  },
  {
   "cell_type": "code",
   "execution_count": 213,
   "metadata": {},
   "outputs": [],
   "source": [
    "# Selecting only useful columns\n",
    "useful_columns = [\"game_id\", 'yardline_100', 'quarter_seconds_remaining', 'half_seconds_remaining', \n",
    "                  'game_seconds_remaining', 'quarter_end', 'drive', 'sp', 'qtr', 'down', 'goal_to_go', \n",
    "                  'ydstogo', 'ydsnet', 'yards_gained', 'shotgun', 'no_huddle', 'home_timeouts_remaining', \n",
    "                  'defteam_timeouts_remaining','defteam_score','away_timeouts_remaining', \n",
    "                  'timeout', 'defteam_timeouts_remaining', 'total_home_score',  \n",
    "                  'posteam_timeouts_remaining', 'posteam_score', 'total_away_score', 'defteam_score',\n",
    "                  'score_differential', 'defteam_score_post',  'score_differential_post', 'touchdown', \"play_type\"]\n",
    "data = data[useful_columns]"
   ]
  },
  {
   "cell_type": "code",
   "execution_count": 214,
   "metadata": {},
   "outputs": [],
   "source": [
    "def classify_play_type(x):\n",
    "    if x == \"kickoff\" or x == \"punt\" or x == \"field_goal\" or x == \"extra_point\":\n",
    "        return 0    # Special Teams\n",
    "    elif x == \"pass\" or x == \"qb_spike\":\n",
    "        return 1    # pass\n",
    "    elif x == \"run\" or x == \"qb_kneel\":\n",
    "        return 2    # run\n",
    "    else:\n",
    "        return 3    # no play\n",
    "    \n",
    "# Classifying play type\n",
    "data[\"play_type\"] = data[\"play_type\"].apply(classify_play_type)"
   ]
  },
  {
   "cell_type": "code",
   "execution_count": 215,
   "metadata": {},
   "outputs": [
    {
     "data": {
      "text/html": [
       "<div>\n",
       "<style scoped>\n",
       "    .dataframe tbody tr th:only-of-type {\n",
       "        vertical-align: middle;\n",
       "    }\n",
       "\n",
       "    .dataframe tbody tr th {\n",
       "        vertical-align: top;\n",
       "    }\n",
       "\n",
       "    .dataframe thead th {\n",
       "        text-align: right;\n",
       "    }\n",
       "</style>\n",
       "<table border=\"1\" class=\"dataframe\">\n",
       "  <thead>\n",
       "    <tr style=\"text-align: right;\">\n",
       "      <th></th>\n",
       "      <th>game_id</th>\n",
       "      <th>yardline_100</th>\n",
       "      <th>quarter_seconds_remaining</th>\n",
       "      <th>half_seconds_remaining</th>\n",
       "      <th>game_seconds_remaining</th>\n",
       "      <th>quarter_end</th>\n",
       "      <th>drive</th>\n",
       "      <th>sp</th>\n",
       "      <th>qtr</th>\n",
       "      <th>down</th>\n",
       "      <th>...</th>\n",
       "      <th>total_home_score</th>\n",
       "      <th>posteam_timeouts_remaining</th>\n",
       "      <th>posteam_score</th>\n",
       "      <th>total_away_score</th>\n",
       "      <th>defteam_score</th>\n",
       "      <th>score_differential</th>\n",
       "      <th>defteam_score_post</th>\n",
       "      <th>score_differential_post</th>\n",
       "      <th>touchdown</th>\n",
       "      <th>play_type</th>\n",
       "    </tr>\n",
       "  </thead>\n",
       "  <tbody>\n",
       "    <tr>\n",
       "      <th>0</th>\n",
       "      <td>2009091000</td>\n",
       "      <td>30.0</td>\n",
       "      <td>900.0</td>\n",
       "      <td>1800.0</td>\n",
       "      <td>3600.0</td>\n",
       "      <td>0</td>\n",
       "      <td>1</td>\n",
       "      <td>0</td>\n",
       "      <td>1</td>\n",
       "      <td>NaN</td>\n",
       "      <td>...</td>\n",
       "      <td>0</td>\n",
       "      <td>3.0</td>\n",
       "      <td>NaN</td>\n",
       "      <td>0</td>\n",
       "      <td>NaN</td>\n",
       "      <td>NaN</td>\n",
       "      <td>0.0</td>\n",
       "      <td>0.0</td>\n",
       "      <td>0.0</td>\n",
       "      <td>0</td>\n",
       "    </tr>\n",
       "    <tr>\n",
       "      <th>1</th>\n",
       "      <td>2009091000</td>\n",
       "      <td>58.0</td>\n",
       "      <td>893.0</td>\n",
       "      <td>1793.0</td>\n",
       "      <td>3593.0</td>\n",
       "      <td>0</td>\n",
       "      <td>1</td>\n",
       "      <td>0</td>\n",
       "      <td>1</td>\n",
       "      <td>1.0</td>\n",
       "      <td>...</td>\n",
       "      <td>0</td>\n",
       "      <td>3.0</td>\n",
       "      <td>0.0</td>\n",
       "      <td>0</td>\n",
       "      <td>0.0</td>\n",
       "      <td>0.0</td>\n",
       "      <td>0.0</td>\n",
       "      <td>0.0</td>\n",
       "      <td>0.0</td>\n",
       "      <td>1</td>\n",
       "    </tr>\n",
       "    <tr>\n",
       "      <th>2</th>\n",
       "      <td>2009091000</td>\n",
       "      <td>53.0</td>\n",
       "      <td>856.0</td>\n",
       "      <td>1756.0</td>\n",
       "      <td>3556.0</td>\n",
       "      <td>0</td>\n",
       "      <td>1</td>\n",
       "      <td>0</td>\n",
       "      <td>1</td>\n",
       "      <td>2.0</td>\n",
       "      <td>...</td>\n",
       "      <td>0</td>\n",
       "      <td>3.0</td>\n",
       "      <td>0.0</td>\n",
       "      <td>0</td>\n",
       "      <td>0.0</td>\n",
       "      <td>0.0</td>\n",
       "      <td>0.0</td>\n",
       "      <td>0.0</td>\n",
       "      <td>0.0</td>\n",
       "      <td>2</td>\n",
       "    </tr>\n",
       "    <tr>\n",
       "      <th>3</th>\n",
       "      <td>2009091000</td>\n",
       "      <td>56.0</td>\n",
       "      <td>815.0</td>\n",
       "      <td>1715.0</td>\n",
       "      <td>3515.0</td>\n",
       "      <td>0</td>\n",
       "      <td>1</td>\n",
       "      <td>0</td>\n",
       "      <td>1</td>\n",
       "      <td>3.0</td>\n",
       "      <td>...</td>\n",
       "      <td>0</td>\n",
       "      <td>3.0</td>\n",
       "      <td>0.0</td>\n",
       "      <td>0</td>\n",
       "      <td>0.0</td>\n",
       "      <td>0.0</td>\n",
       "      <td>0.0</td>\n",
       "      <td>0.0</td>\n",
       "      <td>0.0</td>\n",
       "      <td>1</td>\n",
       "    </tr>\n",
       "    <tr>\n",
       "      <th>4</th>\n",
       "      <td>2009091000</td>\n",
       "      <td>56.0</td>\n",
       "      <td>807.0</td>\n",
       "      <td>1707.0</td>\n",
       "      <td>3507.0</td>\n",
       "      <td>0</td>\n",
       "      <td>1</td>\n",
       "      <td>0</td>\n",
       "      <td>1</td>\n",
       "      <td>4.0</td>\n",
       "      <td>...</td>\n",
       "      <td>0</td>\n",
       "      <td>3.0</td>\n",
       "      <td>0.0</td>\n",
       "      <td>0</td>\n",
       "      <td>0.0</td>\n",
       "      <td>0.0</td>\n",
       "      <td>0.0</td>\n",
       "      <td>0.0</td>\n",
       "      <td>0.0</td>\n",
       "      <td>0</td>\n",
       "    </tr>\n",
       "  </tbody>\n",
       "</table>\n",
       "<p>5 rows × 32 columns</p>\n",
       "</div>"
      ],
      "text/plain": [
       "      game_id  yardline_100  quarter_seconds_remaining  \\\n",
       "0  2009091000          30.0                      900.0   \n",
       "1  2009091000          58.0                      893.0   \n",
       "2  2009091000          53.0                      856.0   \n",
       "3  2009091000          56.0                      815.0   \n",
       "4  2009091000          56.0                      807.0   \n",
       "\n",
       "   half_seconds_remaining  game_seconds_remaining  quarter_end  drive  sp  \\\n",
       "0                  1800.0                  3600.0            0      1   0   \n",
       "1                  1793.0                  3593.0            0      1   0   \n",
       "2                  1756.0                  3556.0            0      1   0   \n",
       "3                  1715.0                  3515.0            0      1   0   \n",
       "4                  1707.0                  3507.0            0      1   0   \n",
       "\n",
       "   qtr  down  ...  total_home_score  posteam_timeouts_remaining  \\\n",
       "0    1   NaN  ...                 0                         3.0   \n",
       "1    1   1.0  ...                 0                         3.0   \n",
       "2    1   2.0  ...                 0                         3.0   \n",
       "3    1   3.0  ...                 0                         3.0   \n",
       "4    1   4.0  ...                 0                         3.0   \n",
       "\n",
       "   posteam_score  total_away_score  defteam_score  score_differential  \\\n",
       "0            NaN                 0            NaN                 NaN   \n",
       "1            0.0                 0            0.0                 0.0   \n",
       "2            0.0                 0            0.0                 0.0   \n",
       "3            0.0                 0            0.0                 0.0   \n",
       "4            0.0                 0            0.0                 0.0   \n",
       "\n",
       "   defteam_score_post  score_differential_post  touchdown  play_type  \n",
       "0                 0.0                      0.0        0.0          0  \n",
       "1                 0.0                      0.0        0.0          1  \n",
       "2                 0.0                      0.0        0.0          2  \n",
       "3                 0.0                      0.0        0.0          1  \n",
       "4                 0.0                      0.0        0.0          0  \n",
       "\n",
       "[5 rows x 32 columns]"
      ]
     },
     "execution_count": 215,
     "metadata": {},
     "output_type": "execute_result"
    }
   ],
   "source": [
    "data.head()"
   ]
  },
  {
   "cell_type": "code",
   "execution_count": 216,
   "metadata": {},
   "outputs": [
    {
     "data": {
      "text/plain": [
       "game_id                         int64\n",
       "yardline_100                  float64\n",
       "quarter_seconds_remaining     float64\n",
       "half_seconds_remaining        float64\n",
       "game_seconds_remaining        float64\n",
       "quarter_end                     int64\n",
       "drive                           int64\n",
       "sp                              int64\n",
       "qtr                             int64\n",
       "down                          float64\n",
       "goal_to_go                    float64\n",
       "ydstogo                         int64\n",
       "ydsnet                          int64\n",
       "yards_gained                  float64\n",
       "shotgun                         int64\n",
       "no_huddle                       int64\n",
       "home_timeouts_remaining         int64\n",
       "defteam_timeouts_remaining    float64\n",
       "defteam_score                 float64\n",
       "away_timeouts_remaining         int64\n",
       "timeout                       float64\n",
       "defteam_timeouts_remaining    float64\n",
       "total_home_score                int64\n",
       "posteam_timeouts_remaining    float64\n",
       "posteam_score                 float64\n",
       "total_away_score                int64\n",
       "defteam_score                 float64\n",
       "score_differential            float64\n",
       "defteam_score_post            float64\n",
       "score_differential_post       float64\n",
       "touchdown                     float64\n",
       "play_type                       int64\n",
       "dtype: object"
      ]
     },
     "execution_count": 216,
     "metadata": {},
     "output_type": "execute_result"
    }
   ],
   "source": [
    "# Confirming data types are numeric\n",
    "data.dtypes"
   ]
  },
  {
   "cell_type": "code",
   "execution_count": 217,
   "metadata": {},
   "outputs": [
    {
     "data": {
      "text/plain": [
       "game_id                           0\n",
       "yardline_100                    368\n",
       "quarter_seconds_remaining         1\n",
       "half_seconds_remaining           25\n",
       "game_seconds_remaining           23\n",
       "quarter_end                       0\n",
       "drive                             0\n",
       "sp                                0\n",
       "qtr                               0\n",
       "down                          55563\n",
       "goal_to_go                        5\n",
       "ydstogo                           0\n",
       "ydsnet                            0\n",
       "yards_gained                    213\n",
       "shotgun                           0\n",
       "no_huddle                         0\n",
       "home_timeouts_remaining           0\n",
       "defteam_timeouts_remaining        5\n",
       "defteam_score                  2545\n",
       "away_timeouts_remaining           0\n",
       "timeout                           0\n",
       "defteam_timeouts_remaining        5\n",
       "total_home_score                  0\n",
       "posteam_timeouts_remaining        5\n",
       "posteam_score                  2545\n",
       "total_away_score                  0\n",
       "defteam_score                  2545\n",
       "score_differential             2545\n",
       "defteam_score_post                5\n",
       "score_differential_post           5\n",
       "touchdown                         0\n",
       "play_type                         0\n",
       "dtype: int64"
      ]
     },
     "execution_count": 217,
     "metadata": {},
     "output_type": "execute_result"
    }
   ],
   "source": [
    "# Checking missing values\n",
    "data.isna().sum()"
   ]
  },
  {
   "cell_type": "code",
   "execution_count": 218,
   "metadata": {},
   "outputs": [],
   "source": [
    "# Down missing is likely due to undowned plays, such as kickoff, extra point, etc.\n",
    "data = data[~data[\"down\"].isna()]"
   ]
  },
  {
   "cell_type": "code",
   "execution_count": 219,
   "metadata": {},
   "outputs": [
    {
     "data": {
      "text/plain": [
       "game_id                         0\n",
       "yardline_100                    0\n",
       "quarter_seconds_remaining       0\n",
       "half_seconds_remaining         19\n",
       "game_seconds_remaining         20\n",
       "quarter_end                     0\n",
       "drive                           0\n",
       "sp                              0\n",
       "qtr                             0\n",
       "down                            0\n",
       "goal_to_go                      0\n",
       "ydstogo                         0\n",
       "ydsnet                          0\n",
       "yards_gained                  213\n",
       "shotgun                         0\n",
       "no_huddle                       0\n",
       "home_timeouts_remaining         0\n",
       "defteam_timeouts_remaining      0\n",
       "defteam_score                   0\n",
       "away_timeouts_remaining         0\n",
       "timeout                         0\n",
       "defteam_timeouts_remaining      0\n",
       "total_home_score                0\n",
       "posteam_timeouts_remaining      0\n",
       "posteam_score                   0\n",
       "total_away_score                0\n",
       "defteam_score                   0\n",
       "score_differential              0\n",
       "defteam_score_post              0\n",
       "score_differential_post         0\n",
       "touchdown                       0\n",
       "play_type                       0\n",
       "dtype: int64"
      ]
     },
     "execution_count": 219,
     "metadata": {},
     "output_type": "execute_result"
    }
   ],
   "source": [
    "# Rechecking missing values\n",
    "data.isna().sum()"
   ]
  },
  {
   "cell_type": "code",
   "execution_count": 220,
   "metadata": {},
   "outputs": [
    {
     "data": {
      "text/plain": [
       "(380692, 32)"
      ]
     },
     "execution_count": 220,
     "metadata": {},
     "output_type": "execute_result"
    }
   ],
   "source": [
    "# There arent many, so dropping remaining\n",
    "data = data.dropna()\n",
    "data.shape"
   ]
  },
  {
   "cell_type": "code",
   "execution_count": null,
   "metadata": {},
   "outputs": [],
   "source": [
    "# Creating a unique drive id\n",
    "data[\"game_id_str\"] = data[\"game_id\"].astype(\"str\")\n",
    "data[\"drive_str\"] = data[\"drive\"].astype('str')\n",
    "\n",
    "data[\"drive_id\"] = data[\"game_id_str\"].str.cat(data[\"drive_str\"])"
   ]
  },
  {
   "cell_type": "code",
   "execution_count": null,
   "metadata": {},
   "outputs": [],
   "source": [
    "# Dropping temporary columns i created\n",
    "data = data.drop([\"game_id\", \"game_id_str\", \"drive_str\"],axis=1)"
   ]
  },
  {
   "cell_type": "code",
   "execution_count": null,
   "metadata": {},
   "outputs": [],
   "source": [
    "# Reordering columns\n",
    "col_order = [\"drive_id\"] + list(data.columns)[:-1]\n",
    "data = data[col_order]"
   ]
  },
  {
   "cell_type": "code",
   "execution_count": 224,
   "metadata": {},
   "outputs": [
    {
     "data": {
      "text/html": [
       "<div>\n",
       "<style scoped>\n",
       "    .dataframe tbody tr th:only-of-type {\n",
       "        vertical-align: middle;\n",
       "    }\n",
       "\n",
       "    .dataframe tbody tr th {\n",
       "        vertical-align: top;\n",
       "    }\n",
       "\n",
       "    .dataframe thead th {\n",
       "        text-align: right;\n",
       "    }\n",
       "</style>\n",
       "<table border=\"1\" class=\"dataframe\">\n",
       "  <thead>\n",
       "    <tr style=\"text-align: right;\">\n",
       "      <th></th>\n",
       "      <th>drive_id</th>\n",
       "      <th>yardline_100</th>\n",
       "      <th>quarter_seconds_remaining</th>\n",
       "      <th>half_seconds_remaining</th>\n",
       "      <th>game_seconds_remaining</th>\n",
       "      <th>quarter_end</th>\n",
       "      <th>drive</th>\n",
       "      <th>sp</th>\n",
       "      <th>qtr</th>\n",
       "      <th>down</th>\n",
       "      <th>...</th>\n",
       "      <th>posteam_timeouts_remaining</th>\n",
       "      <th>posteam_score</th>\n",
       "      <th>total_away_score</th>\n",
       "      <th>defteam_score</th>\n",
       "      <th>defteam_score</th>\n",
       "      <th>score_differential</th>\n",
       "      <th>defteam_score_post</th>\n",
       "      <th>score_differential_post</th>\n",
       "      <th>touchdown</th>\n",
       "      <th>play_type</th>\n",
       "    </tr>\n",
       "  </thead>\n",
       "  <tbody>\n",
       "    <tr>\n",
       "      <th>1</th>\n",
       "      <td>20090910001</td>\n",
       "      <td>58.0</td>\n",
       "      <td>893.0</td>\n",
       "      <td>1793.0</td>\n",
       "      <td>3593.0</td>\n",
       "      <td>0</td>\n",
       "      <td>1</td>\n",
       "      <td>0</td>\n",
       "      <td>1</td>\n",
       "      <td>1.0</td>\n",
       "      <td>...</td>\n",
       "      <td>3.0</td>\n",
       "      <td>0.0</td>\n",
       "      <td>0</td>\n",
       "      <td>0.0</td>\n",
       "      <td>0.0</td>\n",
       "      <td>0.0</td>\n",
       "      <td>0.0</td>\n",
       "      <td>0.0</td>\n",
       "      <td>0.0</td>\n",
       "      <td>1</td>\n",
       "    </tr>\n",
       "    <tr>\n",
       "      <th>2</th>\n",
       "      <td>20090910001</td>\n",
       "      <td>53.0</td>\n",
       "      <td>856.0</td>\n",
       "      <td>1756.0</td>\n",
       "      <td>3556.0</td>\n",
       "      <td>0</td>\n",
       "      <td>1</td>\n",
       "      <td>0</td>\n",
       "      <td>1</td>\n",
       "      <td>2.0</td>\n",
       "      <td>...</td>\n",
       "      <td>3.0</td>\n",
       "      <td>0.0</td>\n",
       "      <td>0</td>\n",
       "      <td>0.0</td>\n",
       "      <td>0.0</td>\n",
       "      <td>0.0</td>\n",
       "      <td>0.0</td>\n",
       "      <td>0.0</td>\n",
       "      <td>0.0</td>\n",
       "      <td>2</td>\n",
       "    </tr>\n",
       "    <tr>\n",
       "      <th>3</th>\n",
       "      <td>20090910001</td>\n",
       "      <td>56.0</td>\n",
       "      <td>815.0</td>\n",
       "      <td>1715.0</td>\n",
       "      <td>3515.0</td>\n",
       "      <td>0</td>\n",
       "      <td>1</td>\n",
       "      <td>0</td>\n",
       "      <td>1</td>\n",
       "      <td>3.0</td>\n",
       "      <td>...</td>\n",
       "      <td>3.0</td>\n",
       "      <td>0.0</td>\n",
       "      <td>0</td>\n",
       "      <td>0.0</td>\n",
       "      <td>0.0</td>\n",
       "      <td>0.0</td>\n",
       "      <td>0.0</td>\n",
       "      <td>0.0</td>\n",
       "      <td>0.0</td>\n",
       "      <td>1</td>\n",
       "    </tr>\n",
       "    <tr>\n",
       "      <th>4</th>\n",
       "      <td>20090910001</td>\n",
       "      <td>56.0</td>\n",
       "      <td>807.0</td>\n",
       "      <td>1707.0</td>\n",
       "      <td>3507.0</td>\n",
       "      <td>0</td>\n",
       "      <td>1</td>\n",
       "      <td>0</td>\n",
       "      <td>1</td>\n",
       "      <td>4.0</td>\n",
       "      <td>...</td>\n",
       "      <td>3.0</td>\n",
       "      <td>0.0</td>\n",
       "      <td>0</td>\n",
       "      <td>0.0</td>\n",
       "      <td>0.0</td>\n",
       "      <td>0.0</td>\n",
       "      <td>0.0</td>\n",
       "      <td>0.0</td>\n",
       "      <td>0.0</td>\n",
       "      <td>0</td>\n",
       "    </tr>\n",
       "    <tr>\n",
       "      <th>5</th>\n",
       "      <td>20090910002</td>\n",
       "      <td>98.0</td>\n",
       "      <td>796.0</td>\n",
       "      <td>1696.0</td>\n",
       "      <td>3496.0</td>\n",
       "      <td>0</td>\n",
       "      <td>2</td>\n",
       "      <td>0</td>\n",
       "      <td>1</td>\n",
       "      <td>1.0</td>\n",
       "      <td>...</td>\n",
       "      <td>3.0</td>\n",
       "      <td>0.0</td>\n",
       "      <td>0</td>\n",
       "      <td>0.0</td>\n",
       "      <td>0.0</td>\n",
       "      <td>0.0</td>\n",
       "      <td>0.0</td>\n",
       "      <td>0.0</td>\n",
       "      <td>0.0</td>\n",
       "      <td>2</td>\n",
       "    </tr>\n",
       "  </tbody>\n",
       "</table>\n",
       "<p>5 rows × 36 columns</p>\n",
       "</div>"
      ],
      "text/plain": [
       "      drive_id  yardline_100  quarter_seconds_remaining  \\\n",
       "1  20090910001          58.0                      893.0   \n",
       "2  20090910001          53.0                      856.0   \n",
       "3  20090910001          56.0                      815.0   \n",
       "4  20090910001          56.0                      807.0   \n",
       "5  20090910002          98.0                      796.0   \n",
       "\n",
       "   half_seconds_remaining  game_seconds_remaining  quarter_end  drive  sp  \\\n",
       "1                  1793.0                  3593.0            0      1   0   \n",
       "2                  1756.0                  3556.0            0      1   0   \n",
       "3                  1715.0                  3515.0            0      1   0   \n",
       "4                  1707.0                  3507.0            0      1   0   \n",
       "5                  1696.0                  3496.0            0      2   0   \n",
       "\n",
       "   qtr  down  ...  posteam_timeouts_remaining  posteam_score  \\\n",
       "1    1   1.0  ...                         3.0            0.0   \n",
       "2    1   2.0  ...                         3.0            0.0   \n",
       "3    1   3.0  ...                         3.0            0.0   \n",
       "4    1   4.0  ...                         3.0            0.0   \n",
       "5    1   1.0  ...                         3.0            0.0   \n",
       "\n",
       "   total_away_score  defteam_score  defteam_score  score_differential  \\\n",
       "1                 0            0.0            0.0                 0.0   \n",
       "2                 0            0.0            0.0                 0.0   \n",
       "3                 0            0.0            0.0                 0.0   \n",
       "4                 0            0.0            0.0                 0.0   \n",
       "5                 0            0.0            0.0                 0.0   \n",
       "\n",
       "   defteam_score_post  score_differential_post  touchdown  play_type  \n",
       "1                 0.0                      0.0        0.0          1  \n",
       "2                 0.0                      0.0        0.0          2  \n",
       "3                 0.0                      0.0        0.0          1  \n",
       "4                 0.0                      0.0        0.0          0  \n",
       "5                 0.0                      0.0        0.0          2  \n",
       "\n",
       "[5 rows x 36 columns]"
      ]
     },
     "execution_count": 224,
     "metadata": {},
     "output_type": "execute_result"
    }
   ],
   "source": [
    "data.head()"
   ]
  },
  {
   "cell_type": "code",
   "execution_count": null,
   "metadata": {},
   "outputs": [
    {
     "data": {
      "text/plain": [
       "['20090910001', '20090910002', '20090910003', '20090910004', '20090910005']"
      ]
     },
     "execution_count": 225,
     "metadata": {},
     "output_type": "execute_result"
    }
   ],
   "source": [
    "# Checking drive_ids\n",
    "ids = list(data[\"drive_id\"].unique())\n",
    "ids[:5]"
   ]
  },
  {
   "cell_type": "code",
   "execution_count": null,
   "metadata": {},
   "outputs": [
    {
     "data": {
      "text/plain": [
       "58729"
      ]
     },
     "execution_count": 226,
     "metadata": {},
     "output_type": "execute_result"
    }
   ],
   "source": [
    "# Number of drives\n",
    "len(ids)"
   ]
  },
  {
   "cell_type": "code",
   "execution_count": null,
   "metadata": {},
   "outputs": [
    {
     "data": {
      "text/plain": [
       "(380692, 36)"
      ]
     },
     "execution_count": 227,
     "metadata": {},
     "output_type": "execute_result"
    }
   ],
   "source": [
    "# Checking shape\n",
    "data.shape"
   ]
  },
  {
   "cell_type": "code",
   "execution_count": null,
   "metadata": {},
   "outputs": [],
   "source": [
    "# WARNING: Takes 23 minutes\n",
    "# Splitting the dataframe by drive ID and storing each drive as its own numpy array. Each drive frame has shame (?, 35), where the question mark depends on the number of plays in the drive.\n",
    "# I also drop drive_id since it is non-numeric. I finally take the dataframe and insert it as a numpy array\n",
    "\n",
    "broken_data = [data[data[\"drive_id\"] == i].drop(\"drive_id\", axis=1).to_numpy() for i in ids]\n"
   ]
  },
  {
   "cell_type": "markdown",
   "metadata": {},
   "source": [
    "# Buffering data for consistency\n",
    "\n",
    "The longest drive was 34 plays, so we need to have each \"drive\" frame be of shape (34, 36)"
   ]
  },
  {
   "cell_type": "code",
   "execution_count": null,
   "metadata": {},
   "outputs": [],
   "source": [
    "# Renaming the list\n",
    "drive_data = broken_data\n",
    "\n",
    "# Initializing some values\n",
    "MAX_DRIVES = 0                      # To store the longest drive (# plays); in this data, MAX_DRIVES = 34\n",
    "FEATURES = drive_data[0].shape[1]   # To store the num of features: 35\n",
    "\n",
    "# Finding the longest drive\n",
    "for drive in drive_data:\n",
    "    if drive.shape[0] > MAX_DRIVES:\n",
    "        MAX_DRIVES = drive.shape[0]\n",
    "\n",
    "# Extending each drive frame by buffer of 0s\n",
    "for i, drive in enumerate(drive_data):\n",
    "    rows = drive.shape[0]\n",
    "\n",
    "    # # removing drive_id from columns\n",
    "    # temp_drive = []\n",
    "    # for row in drive:\n",
    "    #     temp_drive.append(row[1:])\n",
    "    # temp_drive = np.array(temp_drive)\n",
    "\n",
    "    # Pad with rows of 0s\n",
    "    if rows != MAX_DRIVES:\n",
    "        buffer = np.zeros((MAX_DRIVES-rows, FEATURES))  # Create an array of 0s to fit onto the data to ensure it is of shape (MAX_DRIVES=34, 35)\n",
    "        drive_data[i] = np.concatenate((buffer, drive)) # Concatenating the 0-padding and the drive data into one numpy array and storing it\n",
    "\n",
    "# Setting drive data to an NP.array\n",
    "drive_data = np.array(drive_data)   \n"
   ]
  },
  {
   "cell_type": "code",
   "execution_count": null,
   "metadata": {},
   "outputs": [
    {
     "data": {
      "text/plain": [
       "(58729, 34, 35)"
      ]
     },
     "execution_count": 231,
     "metadata": {},
     "output_type": "execute_result"
    }
   ],
   "source": [
    "# Checking that the shape is (# Drives, # Plays in each Drive, # Features) = (58729, MAX_DRIVES, FEATURES)\n",
    "drive_data.shape"
   ]
  },
  {
   "cell_type": "code",
   "execution_count": null,
   "metadata": {},
   "outputs": [
    {
     "data": {
      "text/plain": [
       "array([[0.000e+00, 0.000e+00, 0.000e+00, ..., 0.000e+00, 0.000e+00,\n",
       "        0.000e+00],\n",
       "       [0.000e+00, 0.000e+00, 0.000e+00, ..., 0.000e+00, 0.000e+00,\n",
       "        0.000e+00],\n",
       "       [0.000e+00, 0.000e+00, 0.000e+00, ..., 0.000e+00, 0.000e+00,\n",
       "        0.000e+00],\n",
       "       ...,\n",
       "       [5.300e+01, 8.560e+02, 1.756e+03, ..., 0.000e+00, 0.000e+00,\n",
       "        2.000e+00],\n",
       "       [5.600e+01, 8.150e+02, 1.715e+03, ..., 0.000e+00, 0.000e+00,\n",
       "        1.000e+00],\n",
       "       [5.600e+01, 8.070e+02, 1.707e+03, ..., 0.000e+00, 0.000e+00,\n",
       "        0.000e+00]])"
      ]
     },
     "execution_count": 232,
     "metadata": {},
     "output_type": "execute_result"
    }
   ],
   "source": [
    "# Examining data. Note the 0 padding and real data at the end.\n",
    "drive_data[0]"
   ]
  },
  {
   "cell_type": "code",
   "execution_count": null,
   "metadata": {},
   "outputs": [],
   "source": [
    "# Creating x and y data\n",
    "# X data is all plays except the last play\n",
    "# Y data is the last play of the drive\n",
    "# TODO: Explore what this would look like if we ignored the last play of the drive (i.e. punt, FG, TD).\n",
    "    # x.append(drive[:-2])\n",
    "    # y.append(drive[-2])\n",
    "\n",
    "x = []\n",
    "y = []\n",
    "\n",
    "for drive in drive_data:\n",
    "    x.append(drive[:-1])\n",
    "    y.append(drive[-1])\n",
    "    \n",
    "# Saving x and y lists as np.arrays\n",
    "x = np.array(x)\n",
    "y = np.array(y)"
   ]
  },
  {
   "cell_type": "code",
   "execution_count": null,
   "metadata": {},
   "outputs": [
    {
     "data": {
      "text/plain": [
       "array([[['20090910001', 58.0, 893.0, ..., 0.0, 0.0, 1],\n",
       "        ['20090910001', 53.0, 856.0, ..., 0.0, 0.0, 2]],\n",
       "\n",
       "       [['20090910001', 53.0, 856.0, ..., 0.0, 0.0, 2],\n",
       "        ['20090910001', 56.0, 815.0, ..., 0.0, 0.0, 1]],\n",
       "\n",
       "       [['20090910001', 56.0, 815.0, ..., 0.0, 0.0, 1],\n",
       "        ['20090910001', 56.0, 807.0, ..., 0.0, 0.0, 0]],\n",
       "\n",
       "       ...,\n",
       "\n",
       "       [['201812170020', 66.0, 64.0, ..., -5.0, 0.0, 1],\n",
       "        ['201812170020', 66.0, 63.0, ..., -5.0, 0.0, 1]],\n",
       "\n",
       "       [['201812170020', 66.0, 63.0, ..., -5.0, 0.0, 1],\n",
       "        ['201812170020', 66.0, 58.0, ..., -5.0, 0.0, 1]],\n",
       "\n",
       "       [['201812170020', 66.0, 58.0, ..., -5.0, 0.0, 1],\n",
       "        ['201812170020', 61.0, 38.0, ..., -5.0, 0.0, 1]]], dtype=object)"
      ]
     },
     "execution_count": 159,
     "metadata": {},
     "output_type": "execute_result"
    }
   ],
   "source": [
    "# Deprecated, but could be useful later\n",
    "# Requires that broken_data is a list of pd.DataFrames\n",
    "\n",
    "play_pairs = []\n",
    "\n",
    "for drive in broken_data:\n",
    "    for i in range(len(drive)-1):\n",
    "        cur_play = drive.iloc[i,:].to_numpy()\n",
    "        next_play = drive.iloc[i+1, :].to_numpy()\n",
    "        play_pairs.append(np.array([cur_play, next_play]))\n",
    "\n",
    "np.array(play_pairs)"
   ]
  },
  {
   "cell_type": "code",
   "execution_count": 161,
   "metadata": {},
   "outputs": [],
   "source": [
    "play_pairs = np.array(play_pairs)"
   ]
  },
  {
   "cell_type": "code",
   "execution_count": 162,
   "metadata": {},
   "outputs": [
    {
     "data": {
      "text/plain": [
       "(321963, 2, 36)"
      ]
     },
     "execution_count": 162,
     "metadata": {},
     "output_type": "execute_result"
    }
   ],
   "source": [
    "play_pairs.shape"
   ]
  },
  {
   "cell_type": "code",
   "execution_count": null,
   "metadata": {},
   "outputs": [
    {
     "ename": "NameError",
     "evalue": "name 'Sequential' is not defined",
     "output_type": "error",
     "traceback": [
      "\u001b[0;31m---------------------------------------------------------------------------\u001b[0m",
      "\u001b[0;31mNameError\u001b[0m                                 Traceback (most recent call last)",
      "Cell \u001b[0;32mIn[4], line 6\u001b[0m\n\u001b[1;32m      3\u001b[0m NUM_FEATURES \u001b[38;5;241m=\u001b[39m \u001b[38;5;241m35\u001b[39m\n\u001b[1;32m      4\u001b[0m hidden_size \u001b[38;5;241m=\u001b[39m \u001b[38;5;241m128\u001b[39m\n\u001b[0;32m----> 6\u001b[0m model \u001b[38;5;241m=\u001b[39m \u001b[43mSequential\u001b[49m([\n\u001b[1;32m      7\u001b[0m     layers\u001b[38;5;241m.\u001b[39mInput((NUM_PLAYS, NUM_FEATURES)), \n\u001b[1;32m      8\u001b[0m     layers\u001b[38;5;241m.\u001b[39mLSTM(hidden_size, recurrent_activation\u001b[38;5;241m=\u001b[39m\u001b[38;5;124m\"\u001b[39m\u001b[38;5;124mtanh\u001b[39m\u001b[38;5;124m\"\u001b[39m, kernel_regularizer\u001b[38;5;241m=\u001b[39m\u001b[38;5;124m\"\u001b[39m\u001b[38;5;124ml2\u001b[39m\u001b[38;5;124m\"\u001b[39m, return_sequences\u001b[38;5;241m=\u001b[39m\u001b[38;5;28;01mTrue\u001b[39;00m),\n\u001b[1;32m      9\u001b[0m     layers\u001b[38;5;241m.\u001b[39mLSTM(hidden_size, recurrent_activation\u001b[38;5;241m=\u001b[39m\u001b[38;5;124m\"\u001b[39m\u001b[38;5;124mtanh\u001b[39m\u001b[38;5;124m\"\u001b[39m, kernel_regularizer\u001b[38;5;241m=\u001b[39m\u001b[38;5;124m\"\u001b[39m\u001b[38;5;124ml2\u001b[39m\u001b[38;5;124m\"\u001b[39m),\n\u001b[1;32m     10\u001b[0m     layers\u001b[38;5;241m.\u001b[39mDense(NUM_FEATURES)\n\u001b[1;32m     11\u001b[0m ])\n\u001b[1;32m     13\u001b[0m model\u001b[38;5;241m.\u001b[39mcompile(optimizer\u001b[38;5;241m=\u001b[39m\u001b[38;5;124m'\u001b[39m\u001b[38;5;124madam\u001b[39m\u001b[38;5;124m'\u001b[39m,\n\u001b[1;32m     14\u001b[0m                 loss\u001b[38;5;241m=\u001b[39m\u001b[38;5;124m\"\u001b[39m\u001b[38;5;124mmean_squared_error\u001b[39m\u001b[38;5;124m\"\u001b[39m,   \u001b[38;5;66;03m# tf.keras.losses.KLDivergence(\"sum\"),\u001b[39;00m\n\u001b[1;32m     15\u001b[0m                 metrics\u001b[38;5;241m=\u001b[39m[\u001b[38;5;124m'\u001b[39m\u001b[38;5;124maccuracy\u001b[39m\u001b[38;5;124m'\u001b[39m, \u001b[38;5;124m\"\u001b[39m\u001b[38;5;124mf1_score\u001b[39m\u001b[38;5;124m\"\u001b[39m])\n\u001b[1;32m     17\u001b[0m model\u001b[38;5;241m.\u001b[39msummary()\n",
      "\u001b[0;31mNameError\u001b[0m: name 'Sequential' is not defined"
     ]
    }
   ],
   "source": [
    "# NUM_DRIVES = 58279\n",
    "NUM_PLAYS = 33\n",
    "NUM_FEATURES = 35\n",
    "hidden_size = 128\n",
    "\n",
    "# Creating basic 2 layer LSTM\n",
    "model = Sequential([\n",
    "    layers.Input((NUM_PLAYS, NUM_FEATURES)), \n",
    "    layers.LSTM(hidden_size, recurrent_activation=\"tanh\", kernel_regularizer=\"l2\", return_sequences=True),\n",
    "    layers.LSTM(hidden_size, recurrent_activation=\"tanh\", kernel_regularizer=\"l2\"),\n",
    "    layers.Dense(NUM_FEATURES)\n",
    "])\n",
    "\n",
    "model.compile(optimizer='adam',\n",
    "                loss=\"mean_squared_error\",\n",
    "                metrics=['accuracy', \"f1_score\"])\n",
    "\n",
    "model.summary()"
   ]
  },
  {
   "cell_type": "code",
   "execution_count": null,
   "metadata": {},
   "outputs": [],
   "source": [
    "# Fit the model\n",
    "history = model.fit(x=x, y=y, epochs=EPOCHS)"
   ]
  }
 ],
 "metadata": {
  "kernelspec": {
   "display_name": "Python 3",
   "language": "python",
   "name": "python3"
  },
  "language_info": {
   "codemirror_mode": {
    "name": "ipython",
    "version": 3
   },
   "file_extension": ".py",
   "mimetype": "text/x-python",
   "name": "python",
   "nbconvert_exporter": "python",
   "pygments_lexer": "ipython3",
   "version": "3.12.2"
  }
 },
 "nbformat": 4,
 "nbformat_minor": 2
}
