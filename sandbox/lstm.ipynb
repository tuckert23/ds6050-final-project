{
 "cells": [
  {
   "cell_type": "markdown",
   "metadata": {},
   "source": [
    "# Introduction\n",
    "\n",
    "This model will serve as our first foray into time-series forecasting using LSTMs. We will be following [this tutorial](https://machinelearningmastery.com/multivariate-time-series-forecasting-lstms-keras/).\n",
    "\n",
    "The code will be broken into the following sections:\n",
    "\n",
    "```{raw}\n",
    "I. Data and Imports\n",
    "II. Data Processing\n",
    "    a. Cleaning data\n",
    "    b. Separating data into drives (drive_id)\n",
    "    c. Next-play feature\n",
    "III. Model Creation\n",
    "IV. Model Training\n",
    "V. Model Evaluation\n",
    "```"
   ]
  },
  {
   "cell_type": "markdown",
   "metadata": {},
   "source": [
    "# I. Data and Imports"
   ]
  },
  {
   "cell_type": "code",
   "execution_count": 74,
   "metadata": {},
   "outputs": [],
   "source": [
    "import numpy as np\n",
    "import tensorflow as tf\n",
    "import pandas as pd\n",
    "\n",
    "from tensorflow import keras\n",
    "from tensorflow.keras import layers\n",
    "from tensorflow.keras.models import Sequential\n",
    "\n",
    "from sklearn.model_selection import train_test_split"
   ]
  },
  {
   "cell_type": "code",
   "execution_count": 75,
   "metadata": {},
   "outputs": [],
   "source": [
    "BATCH_SIZE = 100\n",
    "EPOCHS = 10"
   ]
  },
  {
   "cell_type": "code",
   "execution_count": 76,
   "metadata": {},
   "outputs": [
    {
     "name": "stderr",
     "output_type": "stream",
     "text": [
      "/var/folders/c7/1qq7lbrd6p50qcnbj7skxq4c0000gn/T/ipykernel_68862/609794644.py:1: DtypeWarning: Columns (42,166,167,168,169,174,175,178,179,182,183,188,189,190,191,194,195,203,204,205,218,219,220,231,232,233,238,240,241,249) have mixed types. Specify dtype option on import or set low_memory=False.\n",
      "  data = pd.read_csv(\"../data/NFL_Play_by_Play_2009-2018_(v5).csv\")\n"
     ]
    }
   ],
   "source": [
    "data = pd.read_csv(\"../data/NFL_Play_by_Play_2009-2018_(v5).csv\")"
   ]
  },
  {
   "cell_type": "code",
   "execution_count": 77,
   "metadata": {},
   "outputs": [
    {
     "data": {
      "text/plain": [
       "['posteam',\n",
       " 'posteam_type',\n",
       " 'posteam_timeouts_remaining',\n",
       " 'posteam_score',\n",
       " 'posteam_score_post',\n",
       " 'defteam_score_post',\n",
       " 'score_differential_post',\n",
       " 'home_wp_post',\n",
       " 'away_wp_post']"
      ]
     },
     "execution_count": 77,
     "metadata": {},
     "output_type": "execute_result"
    }
   ],
   "source": [
    "[col for col in data.columns.to_list() if \"pos\" in col]"
   ]
  },
  {
   "cell_type": "markdown",
   "metadata": {},
   "source": [
    "# II. Data Processing"
   ]
  },
  {
   "cell_type": "markdown",
   "metadata": {},
   "source": [
    "## II.a Data Cleaning"
   ]
  },
  {
   "cell_type": "code",
   "execution_count": 78,
   "metadata": {},
   "outputs": [],
   "source": [
    "# Selecting only valid plays\n",
    "data = data[data['play_type'].notna()]"
   ]
  },
  {
   "cell_type": "code",
   "execution_count": 79,
   "metadata": {},
   "outputs": [],
   "source": [
    "# Dropping columns with too many missing values\n",
    "data = data.dropna(axis = 1, thresh=10000)"
   ]
  },
  {
   "cell_type": "code",
   "execution_count": 80,
   "metadata": {},
   "outputs": [],
   "source": [
    "# Selecting only useful columns\n",
    "useful_columns = [\"game_id\", 'yardline_100', 'quarter_seconds_remaining', 'half_seconds_remaining', \n",
    "                  'game_seconds_remaining', 'quarter_end', 'drive', 'sp', 'qtr', 'down', 'goal_to_go', \n",
    "                  'ydstogo', 'ydsnet', 'yards_gained', 'shotgun', 'no_huddle', 'home_timeouts_remaining', \n",
    "                  'defteam_timeouts_remaining','defteam_score','away_timeouts_remaining', \n",
    "                  'timeout', 'defteam_timeouts_remaining', 'total_home_score',  \n",
    "                  'posteam_timeouts_remaining', 'posteam_score', 'total_away_score', 'defteam_score',\n",
    "                  'score_differential', 'defteam_score_post',  'score_differential_post', 'touchdown', \"play_type\"]\n",
    "data = data[useful_columns]"
   ]
  },
  {
   "cell_type": "code",
   "execution_count": 81,
   "metadata": {},
   "outputs": [],
   "source": [
    "def classify_play_type(x):\n",
    "    if x == \"kickoff\" or x == \"punt\" or x == \"field_goal\" or x == \"extra_point\":\n",
    "        return 0    # Special Teams\n",
    "    elif x == \"pass\" or x == \"qb_spike\":\n",
    "        return 1    # pass\n",
    "    elif x == \"run\" or x == \"qb_kneel\":\n",
    "        return 2    # run\n",
    "    else:\n",
    "        return 3    # no play\n",
    "    \n",
    "# Classifying play type\n",
    "data[\"play_type\"] = data[\"play_type\"].apply(classify_play_type)"
   ]
  },
  {
   "cell_type": "code",
   "execution_count": 82,
   "metadata": {},
   "outputs": [
    {
     "data": {
      "text/html": [
       "<div>\n",
       "<style scoped>\n",
       "    .dataframe tbody tr th:only-of-type {\n",
       "        vertical-align: middle;\n",
       "    }\n",
       "\n",
       "    .dataframe tbody tr th {\n",
       "        vertical-align: top;\n",
       "    }\n",
       "\n",
       "    .dataframe thead th {\n",
       "        text-align: right;\n",
       "    }\n",
       "</style>\n",
       "<table border=\"1\" class=\"dataframe\">\n",
       "  <thead>\n",
       "    <tr style=\"text-align: right;\">\n",
       "      <th></th>\n",
       "      <th>game_id</th>\n",
       "      <th>yardline_100</th>\n",
       "      <th>quarter_seconds_remaining</th>\n",
       "      <th>half_seconds_remaining</th>\n",
       "      <th>game_seconds_remaining</th>\n",
       "      <th>quarter_end</th>\n",
       "      <th>drive</th>\n",
       "      <th>sp</th>\n",
       "      <th>qtr</th>\n",
       "      <th>down</th>\n",
       "      <th>...</th>\n",
       "      <th>total_home_score</th>\n",
       "      <th>posteam_timeouts_remaining</th>\n",
       "      <th>posteam_score</th>\n",
       "      <th>total_away_score</th>\n",
       "      <th>defteam_score</th>\n",
       "      <th>score_differential</th>\n",
       "      <th>defteam_score_post</th>\n",
       "      <th>score_differential_post</th>\n",
       "      <th>touchdown</th>\n",
       "      <th>play_type</th>\n",
       "    </tr>\n",
       "  </thead>\n",
       "  <tbody>\n",
       "    <tr>\n",
       "      <th>0</th>\n",
       "      <td>2009091000</td>\n",
       "      <td>30.0</td>\n",
       "      <td>900.0</td>\n",
       "      <td>1800.0</td>\n",
       "      <td>3600.0</td>\n",
       "      <td>0</td>\n",
       "      <td>1</td>\n",
       "      <td>0</td>\n",
       "      <td>1</td>\n",
       "      <td>NaN</td>\n",
       "      <td>...</td>\n",
       "      <td>0</td>\n",
       "      <td>3.0</td>\n",
       "      <td>NaN</td>\n",
       "      <td>0</td>\n",
       "      <td>NaN</td>\n",
       "      <td>NaN</td>\n",
       "      <td>0.0</td>\n",
       "      <td>0.0</td>\n",
       "      <td>0.0</td>\n",
       "      <td>0</td>\n",
       "    </tr>\n",
       "    <tr>\n",
       "      <th>1</th>\n",
       "      <td>2009091000</td>\n",
       "      <td>58.0</td>\n",
       "      <td>893.0</td>\n",
       "      <td>1793.0</td>\n",
       "      <td>3593.0</td>\n",
       "      <td>0</td>\n",
       "      <td>1</td>\n",
       "      <td>0</td>\n",
       "      <td>1</td>\n",
       "      <td>1.0</td>\n",
       "      <td>...</td>\n",
       "      <td>0</td>\n",
       "      <td>3.0</td>\n",
       "      <td>0.0</td>\n",
       "      <td>0</td>\n",
       "      <td>0.0</td>\n",
       "      <td>0.0</td>\n",
       "      <td>0.0</td>\n",
       "      <td>0.0</td>\n",
       "      <td>0.0</td>\n",
       "      <td>1</td>\n",
       "    </tr>\n",
       "    <tr>\n",
       "      <th>2</th>\n",
       "      <td>2009091000</td>\n",
       "      <td>53.0</td>\n",
       "      <td>856.0</td>\n",
       "      <td>1756.0</td>\n",
       "      <td>3556.0</td>\n",
       "      <td>0</td>\n",
       "      <td>1</td>\n",
       "      <td>0</td>\n",
       "      <td>1</td>\n",
       "      <td>2.0</td>\n",
       "      <td>...</td>\n",
       "      <td>0</td>\n",
       "      <td>3.0</td>\n",
       "      <td>0.0</td>\n",
       "      <td>0</td>\n",
       "      <td>0.0</td>\n",
       "      <td>0.0</td>\n",
       "      <td>0.0</td>\n",
       "      <td>0.0</td>\n",
       "      <td>0.0</td>\n",
       "      <td>2</td>\n",
       "    </tr>\n",
       "    <tr>\n",
       "      <th>3</th>\n",
       "      <td>2009091000</td>\n",
       "      <td>56.0</td>\n",
       "      <td>815.0</td>\n",
       "      <td>1715.0</td>\n",
       "      <td>3515.0</td>\n",
       "      <td>0</td>\n",
       "      <td>1</td>\n",
       "      <td>0</td>\n",
       "      <td>1</td>\n",
       "      <td>3.0</td>\n",
       "      <td>...</td>\n",
       "      <td>0</td>\n",
       "      <td>3.0</td>\n",
       "      <td>0.0</td>\n",
       "      <td>0</td>\n",
       "      <td>0.0</td>\n",
       "      <td>0.0</td>\n",
       "      <td>0.0</td>\n",
       "      <td>0.0</td>\n",
       "      <td>0.0</td>\n",
       "      <td>1</td>\n",
       "    </tr>\n",
       "    <tr>\n",
       "      <th>4</th>\n",
       "      <td>2009091000</td>\n",
       "      <td>56.0</td>\n",
       "      <td>807.0</td>\n",
       "      <td>1707.0</td>\n",
       "      <td>3507.0</td>\n",
       "      <td>0</td>\n",
       "      <td>1</td>\n",
       "      <td>0</td>\n",
       "      <td>1</td>\n",
       "      <td>4.0</td>\n",
       "      <td>...</td>\n",
       "      <td>0</td>\n",
       "      <td>3.0</td>\n",
       "      <td>0.0</td>\n",
       "      <td>0</td>\n",
       "      <td>0.0</td>\n",
       "      <td>0.0</td>\n",
       "      <td>0.0</td>\n",
       "      <td>0.0</td>\n",
       "      <td>0.0</td>\n",
       "      <td>0</td>\n",
       "    </tr>\n",
       "  </tbody>\n",
       "</table>\n",
       "<p>5 rows × 32 columns</p>\n",
       "</div>"
      ],
      "text/plain": [
       "      game_id  yardline_100  quarter_seconds_remaining  \\\n",
       "0  2009091000          30.0                      900.0   \n",
       "1  2009091000          58.0                      893.0   \n",
       "2  2009091000          53.0                      856.0   \n",
       "3  2009091000          56.0                      815.0   \n",
       "4  2009091000          56.0                      807.0   \n",
       "\n",
       "   half_seconds_remaining  game_seconds_remaining  quarter_end  drive  sp  \\\n",
       "0                  1800.0                  3600.0            0      1   0   \n",
       "1                  1793.0                  3593.0            0      1   0   \n",
       "2                  1756.0                  3556.0            0      1   0   \n",
       "3                  1715.0                  3515.0            0      1   0   \n",
       "4                  1707.0                  3507.0            0      1   0   \n",
       "\n",
       "   qtr  down  ...  total_home_score  posteam_timeouts_remaining  \\\n",
       "0    1   NaN  ...                 0                         3.0   \n",
       "1    1   1.0  ...                 0                         3.0   \n",
       "2    1   2.0  ...                 0                         3.0   \n",
       "3    1   3.0  ...                 0                         3.0   \n",
       "4    1   4.0  ...                 0                         3.0   \n",
       "\n",
       "   posteam_score  total_away_score  defteam_score  score_differential  \\\n",
       "0            NaN                 0            NaN                 NaN   \n",
       "1            0.0                 0            0.0                 0.0   \n",
       "2            0.0                 0            0.0                 0.0   \n",
       "3            0.0                 0            0.0                 0.0   \n",
       "4            0.0                 0            0.0                 0.0   \n",
       "\n",
       "   defteam_score_post  score_differential_post  touchdown  play_type  \n",
       "0                 0.0                      0.0        0.0          0  \n",
       "1                 0.0                      0.0        0.0          1  \n",
       "2                 0.0                      0.0        0.0          2  \n",
       "3                 0.0                      0.0        0.0          1  \n",
       "4                 0.0                      0.0        0.0          0  \n",
       "\n",
       "[5 rows x 32 columns]"
      ]
     },
     "execution_count": 82,
     "metadata": {},
     "output_type": "execute_result"
    }
   ],
   "source": [
    "data.head()"
   ]
  },
  {
   "cell_type": "code",
   "execution_count": 83,
   "metadata": {},
   "outputs": [
    {
     "data": {
      "text/plain": [
       "game_id                         int64\n",
       "yardline_100                  float64\n",
       "quarter_seconds_remaining     float64\n",
       "half_seconds_remaining        float64\n",
       "game_seconds_remaining        float64\n",
       "quarter_end                     int64\n",
       "drive                           int64\n",
       "sp                              int64\n",
       "qtr                             int64\n",
       "down                          float64\n",
       "goal_to_go                    float64\n",
       "ydstogo                         int64\n",
       "ydsnet                          int64\n",
       "yards_gained                  float64\n",
       "shotgun                         int64\n",
       "no_huddle                       int64\n",
       "home_timeouts_remaining         int64\n",
       "defteam_timeouts_remaining    float64\n",
       "defteam_score                 float64\n",
       "away_timeouts_remaining         int64\n",
       "timeout                       float64\n",
       "defteam_timeouts_remaining    float64\n",
       "total_home_score                int64\n",
       "posteam_timeouts_remaining    float64\n",
       "posteam_score                 float64\n",
       "total_away_score                int64\n",
       "defteam_score                 float64\n",
       "score_differential            float64\n",
       "defteam_score_post            float64\n",
       "score_differential_post       float64\n",
       "touchdown                     float64\n",
       "play_type                       int64\n",
       "dtype: object"
      ]
     },
     "execution_count": 83,
     "metadata": {},
     "output_type": "execute_result"
    }
   ],
   "source": [
    "# Confirming data types are numeric\n",
    "data.dtypes"
   ]
  },
  {
   "cell_type": "code",
   "execution_count": 84,
   "metadata": {},
   "outputs": [
    {
     "data": {
      "text/plain": [
       "game_id                           0\n",
       "yardline_100                    368\n",
       "quarter_seconds_remaining         1\n",
       "half_seconds_remaining           25\n",
       "game_seconds_remaining           23\n",
       "quarter_end                       0\n",
       "drive                             0\n",
       "sp                                0\n",
       "qtr                               0\n",
       "down                          55563\n",
       "goal_to_go                        5\n",
       "ydstogo                           0\n",
       "ydsnet                            0\n",
       "yards_gained                    213\n",
       "shotgun                           0\n",
       "no_huddle                         0\n",
       "home_timeouts_remaining           0\n",
       "defteam_timeouts_remaining        5\n",
       "defteam_score                  2545\n",
       "away_timeouts_remaining           0\n",
       "timeout                           0\n",
       "defteam_timeouts_remaining        5\n",
       "total_home_score                  0\n",
       "posteam_timeouts_remaining        5\n",
       "posteam_score                  2545\n",
       "total_away_score                  0\n",
       "defteam_score                  2545\n",
       "score_differential             2545\n",
       "defteam_score_post                5\n",
       "score_differential_post           5\n",
       "touchdown                         0\n",
       "play_type                         0\n",
       "dtype: int64"
      ]
     },
     "execution_count": 84,
     "metadata": {},
     "output_type": "execute_result"
    }
   ],
   "source": [
    "# Checking missing values\n",
    "data.isna().sum()"
   ]
  },
  {
   "cell_type": "code",
   "execution_count": 85,
   "metadata": {},
   "outputs": [],
   "source": [
    "# Down missing is likely due to undowned plays, such as kickoff, extra point, etc.\n",
    "data = data[~data[\"down\"].isna()]"
   ]
  },
  {
   "cell_type": "code",
   "execution_count": 86,
   "metadata": {},
   "outputs": [
    {
     "data": {
      "text/plain": [
       "game_id                         0\n",
       "yardline_100                    0\n",
       "quarter_seconds_remaining       0\n",
       "half_seconds_remaining         19\n",
       "game_seconds_remaining         20\n",
       "quarter_end                     0\n",
       "drive                           0\n",
       "sp                              0\n",
       "qtr                             0\n",
       "down                            0\n",
       "goal_to_go                      0\n",
       "ydstogo                         0\n",
       "ydsnet                          0\n",
       "yards_gained                  213\n",
       "shotgun                         0\n",
       "no_huddle                       0\n",
       "home_timeouts_remaining         0\n",
       "defteam_timeouts_remaining      0\n",
       "defteam_score                   0\n",
       "away_timeouts_remaining         0\n",
       "timeout                         0\n",
       "defteam_timeouts_remaining      0\n",
       "total_home_score                0\n",
       "posteam_timeouts_remaining      0\n",
       "posteam_score                   0\n",
       "total_away_score                0\n",
       "defteam_score                   0\n",
       "score_differential              0\n",
       "defteam_score_post              0\n",
       "score_differential_post         0\n",
       "touchdown                       0\n",
       "play_type                       0\n",
       "dtype: int64"
      ]
     },
     "execution_count": 86,
     "metadata": {},
     "output_type": "execute_result"
    }
   ],
   "source": [
    "# Rechecking missing values\n",
    "data.isna().sum()"
   ]
  },
  {
   "cell_type": "code",
   "execution_count": 87,
   "metadata": {},
   "outputs": [
    {
     "data": {
      "text/plain": [
       "(380692, 32)"
      ]
     },
     "execution_count": 87,
     "metadata": {},
     "output_type": "execute_result"
    }
   ],
   "source": [
    "# There arent many, so dropping remaining\n",
    "data = data.dropna()\n",
    "data.shape"
   ]
  },
  {
   "cell_type": "code",
   "execution_count": null,
   "metadata": {},
   "outputs": [],
   "source": [
    "# Unique drive id\n",
    "data[\"game_id_str\"] = data[\"game_id\"].astype(\"str\")\n",
    "data[\"drive_str\"] = data[\"drive\"].astype('str')\n",
    "\n",
    "data[\"drive_id\"] = data[\"game_id_str\"].str.cat(data[\"drive_str\"])"
   ]
  },
  {
   "cell_type": "code",
   "execution_count": 89,
   "metadata": {},
   "outputs": [],
   "source": [
    "data = data.drop([\"game_id\", \"game_id_str\", \"drive_str\"],axis=1)"
   ]
  },
  {
   "cell_type": "code",
   "execution_count": 90,
   "metadata": {},
   "outputs": [],
   "source": [
    "col_order = [\"drive_id\"] + list(data.columns)[:-1]\n",
    "data = data[col_order]"
   ]
  },
  {
   "cell_type": "code",
   "execution_count": 91,
   "metadata": {},
   "outputs": [
    {
     "data": {
      "text/html": [
       "<div>\n",
       "<style scoped>\n",
       "    .dataframe tbody tr th:only-of-type {\n",
       "        vertical-align: middle;\n",
       "    }\n",
       "\n",
       "    .dataframe tbody tr th {\n",
       "        vertical-align: top;\n",
       "    }\n",
       "\n",
       "    .dataframe thead th {\n",
       "        text-align: right;\n",
       "    }\n",
       "</style>\n",
       "<table border=\"1\" class=\"dataframe\">\n",
       "  <thead>\n",
       "    <tr style=\"text-align: right;\">\n",
       "      <th></th>\n",
       "      <th>drive_id</th>\n",
       "      <th>yardline_100</th>\n",
       "      <th>quarter_seconds_remaining</th>\n",
       "      <th>half_seconds_remaining</th>\n",
       "      <th>game_seconds_remaining</th>\n",
       "      <th>quarter_end</th>\n",
       "      <th>drive</th>\n",
       "      <th>sp</th>\n",
       "      <th>qtr</th>\n",
       "      <th>down</th>\n",
       "      <th>...</th>\n",
       "      <th>posteam_timeouts_remaining</th>\n",
       "      <th>posteam_score</th>\n",
       "      <th>total_away_score</th>\n",
       "      <th>defteam_score</th>\n",
       "      <th>defteam_score</th>\n",
       "      <th>score_differential</th>\n",
       "      <th>defteam_score_post</th>\n",
       "      <th>score_differential_post</th>\n",
       "      <th>touchdown</th>\n",
       "      <th>play_type</th>\n",
       "    </tr>\n",
       "  </thead>\n",
       "  <tbody>\n",
       "    <tr>\n",
       "      <th>1</th>\n",
       "      <td>20090910001</td>\n",
       "      <td>58.0</td>\n",
       "      <td>893.0</td>\n",
       "      <td>1793.0</td>\n",
       "      <td>3593.0</td>\n",
       "      <td>0</td>\n",
       "      <td>1</td>\n",
       "      <td>0</td>\n",
       "      <td>1</td>\n",
       "      <td>1.0</td>\n",
       "      <td>...</td>\n",
       "      <td>3.0</td>\n",
       "      <td>0.0</td>\n",
       "      <td>0</td>\n",
       "      <td>0.0</td>\n",
       "      <td>0.0</td>\n",
       "      <td>0.0</td>\n",
       "      <td>0.0</td>\n",
       "      <td>0.0</td>\n",
       "      <td>0.0</td>\n",
       "      <td>1</td>\n",
       "    </tr>\n",
       "    <tr>\n",
       "      <th>2</th>\n",
       "      <td>20090910001</td>\n",
       "      <td>53.0</td>\n",
       "      <td>856.0</td>\n",
       "      <td>1756.0</td>\n",
       "      <td>3556.0</td>\n",
       "      <td>0</td>\n",
       "      <td>1</td>\n",
       "      <td>0</td>\n",
       "      <td>1</td>\n",
       "      <td>2.0</td>\n",
       "      <td>...</td>\n",
       "      <td>3.0</td>\n",
       "      <td>0.0</td>\n",
       "      <td>0</td>\n",
       "      <td>0.0</td>\n",
       "      <td>0.0</td>\n",
       "      <td>0.0</td>\n",
       "      <td>0.0</td>\n",
       "      <td>0.0</td>\n",
       "      <td>0.0</td>\n",
       "      <td>2</td>\n",
       "    </tr>\n",
       "    <tr>\n",
       "      <th>3</th>\n",
       "      <td>20090910001</td>\n",
       "      <td>56.0</td>\n",
       "      <td>815.0</td>\n",
       "      <td>1715.0</td>\n",
       "      <td>3515.0</td>\n",
       "      <td>0</td>\n",
       "      <td>1</td>\n",
       "      <td>0</td>\n",
       "      <td>1</td>\n",
       "      <td>3.0</td>\n",
       "      <td>...</td>\n",
       "      <td>3.0</td>\n",
       "      <td>0.0</td>\n",
       "      <td>0</td>\n",
       "      <td>0.0</td>\n",
       "      <td>0.0</td>\n",
       "      <td>0.0</td>\n",
       "      <td>0.0</td>\n",
       "      <td>0.0</td>\n",
       "      <td>0.0</td>\n",
       "      <td>1</td>\n",
       "    </tr>\n",
       "    <tr>\n",
       "      <th>4</th>\n",
       "      <td>20090910001</td>\n",
       "      <td>56.0</td>\n",
       "      <td>807.0</td>\n",
       "      <td>1707.0</td>\n",
       "      <td>3507.0</td>\n",
       "      <td>0</td>\n",
       "      <td>1</td>\n",
       "      <td>0</td>\n",
       "      <td>1</td>\n",
       "      <td>4.0</td>\n",
       "      <td>...</td>\n",
       "      <td>3.0</td>\n",
       "      <td>0.0</td>\n",
       "      <td>0</td>\n",
       "      <td>0.0</td>\n",
       "      <td>0.0</td>\n",
       "      <td>0.0</td>\n",
       "      <td>0.0</td>\n",
       "      <td>0.0</td>\n",
       "      <td>0.0</td>\n",
       "      <td>0</td>\n",
       "    </tr>\n",
       "    <tr>\n",
       "      <th>5</th>\n",
       "      <td>20090910002</td>\n",
       "      <td>98.0</td>\n",
       "      <td>796.0</td>\n",
       "      <td>1696.0</td>\n",
       "      <td>3496.0</td>\n",
       "      <td>0</td>\n",
       "      <td>2</td>\n",
       "      <td>0</td>\n",
       "      <td>1</td>\n",
       "      <td>1.0</td>\n",
       "      <td>...</td>\n",
       "      <td>3.0</td>\n",
       "      <td>0.0</td>\n",
       "      <td>0</td>\n",
       "      <td>0.0</td>\n",
       "      <td>0.0</td>\n",
       "      <td>0.0</td>\n",
       "      <td>0.0</td>\n",
       "      <td>0.0</td>\n",
       "      <td>0.0</td>\n",
       "      <td>2</td>\n",
       "    </tr>\n",
       "  </tbody>\n",
       "</table>\n",
       "<p>5 rows × 36 columns</p>\n",
       "</div>"
      ],
      "text/plain": [
       "      drive_id  yardline_100  quarter_seconds_remaining  \\\n",
       "1  20090910001          58.0                      893.0   \n",
       "2  20090910001          53.0                      856.0   \n",
       "3  20090910001          56.0                      815.0   \n",
       "4  20090910001          56.0                      807.0   \n",
       "5  20090910002          98.0                      796.0   \n",
       "\n",
       "   half_seconds_remaining  game_seconds_remaining  quarter_end  drive  sp  \\\n",
       "1                  1793.0                  3593.0            0      1   0   \n",
       "2                  1756.0                  3556.0            0      1   0   \n",
       "3                  1715.0                  3515.0            0      1   0   \n",
       "4                  1707.0                  3507.0            0      1   0   \n",
       "5                  1696.0                  3496.0            0      2   0   \n",
       "\n",
       "   qtr  down  ...  posteam_timeouts_remaining  posteam_score  \\\n",
       "1    1   1.0  ...                         3.0            0.0   \n",
       "2    1   2.0  ...                         3.0            0.0   \n",
       "3    1   3.0  ...                         3.0            0.0   \n",
       "4    1   4.0  ...                         3.0            0.0   \n",
       "5    1   1.0  ...                         3.0            0.0   \n",
       "\n",
       "   total_away_score  defteam_score  defteam_score  score_differential  \\\n",
       "1                 0            0.0            0.0                 0.0   \n",
       "2                 0            0.0            0.0                 0.0   \n",
       "3                 0            0.0            0.0                 0.0   \n",
       "4                 0            0.0            0.0                 0.0   \n",
       "5                 0            0.0            0.0                 0.0   \n",
       "\n",
       "   defteam_score_post  score_differential_post  touchdown  play_type  \n",
       "1                 0.0                      0.0        0.0          1  \n",
       "2                 0.0                      0.0        0.0          2  \n",
       "3                 0.0                      0.0        0.0          1  \n",
       "4                 0.0                      0.0        0.0          0  \n",
       "5                 0.0                      0.0        0.0          2  \n",
       "\n",
       "[5 rows x 36 columns]"
      ]
     },
     "execution_count": 91,
     "metadata": {},
     "output_type": "execute_result"
    }
   ],
   "source": [
    "data.head()"
   ]
  },
  {
   "cell_type": "code",
   "execution_count": 94,
   "metadata": {},
   "outputs": [
    {
     "data": {
      "text/plain": [
       "['20090910001', '20090910002', '20090910003', '20090910004', '20090910005']"
      ]
     },
     "execution_count": 94,
     "metadata": {},
     "output_type": "execute_result"
    }
   ],
   "source": [
    "ids = list(data[\"drive_id\"].unique())\n",
    "ids[:5]"
   ]
  },
  {
   "cell_type": "code",
   "execution_count": 96,
   "metadata": {},
   "outputs": [
    {
     "data": {
      "text/plain": [
       "58729"
      ]
     },
     "execution_count": 96,
     "metadata": {},
     "output_type": "execute_result"
    }
   ],
   "source": [
    "len(ids)"
   ]
  },
  {
   "cell_type": "code",
   "execution_count": 97,
   "metadata": {},
   "outputs": [
    {
     "data": {
      "text/plain": [
       "(380692, 36)"
      ]
     },
     "execution_count": 97,
     "metadata": {},
     "output_type": "execute_result"
    }
   ],
   "source": [
    "data.shape"
   ]
  },
  {
   "cell_type": "code",
   "execution_count": null,
   "metadata": {},
   "outputs": [],
   "source": [
    "# WARNING: Takes 23 minutes\n",
    "broken_data = [data[data[\"drive_id\"] == i] for i in ids]\n"
   ]
  },
  {
   "cell_type": "markdown",
   "metadata": {},
   "source": [
    "# Buffering data for consistency\n",
    "\n",
    "The longest drive was 34 plays, so we need to have each \"drive\" frame be of shape (34, 36)"
   ]
  },
  {
   "cell_type": "code",
   "execution_count": null,
   "metadata": {},
   "outputs": [],
   "source": [
    "# Setting each drive frame to an np.array from a DF\n",
    "drive_data = [np.array(drive) for drive in broken_data]\n",
    "\n",
    "# Initializing some values\n",
    "MAX_DRIVES = 0  # To store the longest drive (# plays)\n",
    "FEATURES = drive_data[0].shape[1]   # To store the num of features: 36\n",
    "\n",
    "# Finding the longest drive\n",
    "for drive in drive_data:\n",
    "    if drive.shape[0] > MAX_DRIVES:\n",
    "        MAX_DRIVES = drive.shape[0]\n",
    "\n",
    "# Extending each drive frame by buffer of 0s\n",
    "for i, drive in enumerate(drive_data):\n",
    "    rows = drive.shape[0]\n",
    "    if rows != 34:\n",
    "        buffer = np.zeros((MAX_DRIVES-rows, FEATURES))\n",
    "        drive_data[i] = np.concatenate((buffer, drive))\n",
    "\n",
    "# Setting drive data to an NP.array\n",
    "drive_data = np.array(drive_data)\n"
   ]
  },
  {
   "cell_type": "code",
   "execution_count": 120,
   "metadata": {},
   "outputs": [
    {
     "data": {
      "text/plain": [
       "(58729, 34, 36)"
      ]
     },
     "execution_count": 120,
     "metadata": {},
     "output_type": "execute_result"
    }
   ],
   "source": [
    "drive_data.shape"
   ]
  },
  {
   "cell_type": "code",
   "execution_count": 125,
   "metadata": {},
   "outputs": [
    {
     "data": {
      "text/plain": [
       "array([['20090910001', 58.0, 893.0, ..., 0.0, 0.0, 1],\n",
       "       ['20090910001', 53.0, 856.0, ..., 0.0, 0.0, 2],\n",
       "       ['20090910001', 56.0, 815.0, ..., 0.0, 0.0, 1],\n",
       "       ...,\n",
       "       [0.0, 0.0, 0.0, ..., 0.0, 0.0, 0.0],\n",
       "       [0.0, 0.0, 0.0, ..., 0.0, 0.0, 0.0],\n",
       "       [0.0, 0.0, 0.0, ..., 0.0, 0.0, 0.0]], dtype=object)"
      ]
     },
     "execution_count": 125,
     "metadata": {},
     "output_type": "execute_result"
    }
   ],
   "source": [
    "drive_data[0]"
   ]
  },
  {
   "cell_type": "code",
   "execution_count": 126,
   "metadata": {},
   "outputs": [],
   "source": [
    "drive_lens = {i: 0 for i in range(1, 35)}"
   ]
  },
  {
   "cell_type": "code",
   "execution_count": 127,
   "metadata": {},
   "outputs": [],
   "source": [
    "for drive in broken_data:\n",
    "    l = drive.shape[0]\n",
    "    drive_lens[l] += 1"
   ]
  },
  {
   "cell_type": "code",
   "execution_count": 128,
   "metadata": {},
   "outputs": [
    {
     "data": {
      "text/plain": [
       "{1: 3120,\n",
       " 2: 2160,\n",
       " 3: 2571,\n",
       " 4: 13528,\n",
       " 5: 6572,\n",
       " 6: 5648,\n",
       " 7: 5779,\n",
       " 8: 4612,\n",
       " 9: 3718,\n",
       " 10: 3084,\n",
       " 11: 2301,\n",
       " 12: 1863,\n",
       " 13: 1353,\n",
       " 14: 870,\n",
       " 15: 627,\n",
       " 16: 391,\n",
       " 17: 195,\n",
       " 18: 165,\n",
       " 19: 59,\n",
       " 20: 47,\n",
       " 21: 12,\n",
       " 22: 21,\n",
       " 23: 4,\n",
       " 24: 9,\n",
       " 25: 0,\n",
       " 26: 7,\n",
       " 27: 0,\n",
       " 28: 7,\n",
       " 29: 1,\n",
       " 30: 3,\n",
       " 31: 0,\n",
       " 32: 1,\n",
       " 33: 0,\n",
       " 34: 1}"
      ]
     },
     "execution_count": 128,
     "metadata": {},
     "output_type": "execute_result"
    }
   ],
   "source": [
    "drive_lens"
   ]
  },
  {
   "cell_type": "code",
   "execution_count": 159,
   "metadata": {},
   "outputs": [
    {
     "data": {
      "text/plain": [
       "array([[['20090910001', 58.0, 893.0, ..., 0.0, 0.0, 1],\n",
       "        ['20090910001', 53.0, 856.0, ..., 0.0, 0.0, 2]],\n",
       "\n",
       "       [['20090910001', 53.0, 856.0, ..., 0.0, 0.0, 2],\n",
       "        ['20090910001', 56.0, 815.0, ..., 0.0, 0.0, 1]],\n",
       "\n",
       "       [['20090910001', 56.0, 815.0, ..., 0.0, 0.0, 1],\n",
       "        ['20090910001', 56.0, 807.0, ..., 0.0, 0.0, 0]],\n",
       "\n",
       "       ...,\n",
       "\n",
       "       [['201812170020', 66.0, 64.0, ..., -5.0, 0.0, 1],\n",
       "        ['201812170020', 66.0, 63.0, ..., -5.0, 0.0, 1]],\n",
       "\n",
       "       [['201812170020', 66.0, 63.0, ..., -5.0, 0.0, 1],\n",
       "        ['201812170020', 66.0, 58.0, ..., -5.0, 0.0, 1]],\n",
       "\n",
       "       [['201812170020', 66.0, 58.0, ..., -5.0, 0.0, 1],\n",
       "        ['201812170020', 61.0, 38.0, ..., -5.0, 0.0, 1]]], dtype=object)"
      ]
     },
     "execution_count": 159,
     "metadata": {},
     "output_type": "execute_result"
    }
   ],
   "source": [
    "play_pairs = []\n",
    "\n",
    "for drive in broken_data:\n",
    "    for i in range(len(drive)-1):\n",
    "        cur_play = drive.iloc[i,:].to_numpy()\n",
    "        next_play = drive.iloc[i+1, :].to_numpy()\n",
    "        play_pairs.append(np.array([cur_play, next_play]))\n",
    "\n",
    "np.array(play_pairs)"
   ]
  },
  {
   "cell_type": "code",
   "execution_count": 161,
   "metadata": {},
   "outputs": [],
   "source": [
    "play_pairs = np.array(play_pairs)"
   ]
  },
  {
   "cell_type": "code",
   "execution_count": 162,
   "metadata": {},
   "outputs": [
    {
     "data": {
      "text/plain": [
       "(321963, 2, 36)"
      ]
     },
     "execution_count": 162,
     "metadata": {},
     "output_type": "execute_result"
    }
   ],
   "source": [
    "play_pairs.shape"
   ]
  },
  {
   "cell_type": "code",
   "execution_count": null,
   "metadata": {},
   "outputs": [],
   "source": []
  }
 ],
 "metadata": {
  "kernelspec": {
   "display_name": "Python 3",
   "language": "python",
   "name": "python3"
  },
  "language_info": {
   "codemirror_mode": {
    "name": "ipython",
    "version": 3
   },
   "file_extension": ".py",
   "mimetype": "text/x-python",
   "name": "python",
   "nbconvert_exporter": "python",
   "pygments_lexer": "ipython3",
   "version": "3.12.2"
  }
 },
 "nbformat": 4,
 "nbformat_minor": 2
}
