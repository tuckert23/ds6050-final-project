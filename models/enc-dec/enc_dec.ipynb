{
 "cells": [
  {
   "cell_type": "markdown",
   "metadata": {},
   "source": [
    "# Encoder-Decoder Model\n",
    "\n",
    "Here, we will experiment with an Encoder-Decoder model for this sequence-to-sequence problem. We will primarily be following [this tutorial](https://blog.keras.io/a-ten-minute-introduction-to-sequence-to-sequence-learning-in-keras.html).\n",
    "\n",
    "Outline:\\\n",
    "I. Imports and Data\\\n",
    "II. Model Creation\\\n",
    "III. Model Training\\\n",
    "IV. Model Evaluation"
   ]
  },
  {
   "cell_type": "markdown",
   "metadata": {},
   "source": [
    "## I. Imports and Data"
   ]
  },
  {
   "cell_type": "code",
   "execution_count": 1156,
   "metadata": {},
   "outputs": [],
   "source": [
    "import numpy as np\n",
    "import tensorflow as tf\n",
    "import pandas as pd\n",
    "import h5py\n",
    "from matplotlib import pyplot as plt\n",
    "\n",
    "from tensorflow import keras\n",
    "from tensorflow.keras import layers\n",
    "from tensorflow.keras.models import Sequential, Model\n",
    "from tensorflow.keras.layers import Input, LSTM, Dense, Masking, Normalization, BatchNormalization, TimeDistributed\n",
    "\n",
    "from keras.preprocessing.sequence import pad_sequences\n",
    "\n",
    "from sklearn.model_selection import train_test_split"
   ]
  },
  {
   "cell_type": "code",
   "execution_count": 1157,
   "metadata": {},
   "outputs": [],
   "source": [
    "# Load data from the HDF5 file\n",
    "with h5py.File('enc_dec_preprocessed_data.h5', 'r') as hf:\n",
    "    x = hf[\"x\"][:]\n",
    "    y = hf[\"y\"][:]\n",
    "    decoder_inputs = hf[\"decoder_inputs\"][:]"
   ]
  },
  {
   "cell_type": "code",
   "execution_count": 1158,
   "metadata": {},
   "outputs": [
    {
     "data": {
      "text/plain": [
       "(21, 35)"
      ]
     },
     "execution_count": 1158,
     "metadata": {},
     "output_type": "execute_result"
    }
   ],
   "source": [
    "x[0].shape"
   ]
  },
  {
   "cell_type": "code",
   "execution_count": 1159,
   "metadata": {},
   "outputs": [
    {
     "data": {
      "text/plain": [
       "(35,)"
      ]
     },
     "execution_count": 1159,
     "metadata": {},
     "output_type": "execute_result"
    }
   ],
   "source": [
    "y[0].shape"
   ]
  },
  {
   "cell_type": "code",
   "execution_count": 1160,
   "metadata": {},
   "outputs": [
    {
     "data": {
      "text/plain": [
       "(35,)"
      ]
     },
     "execution_count": 1160,
     "metadata": {},
     "output_type": "execute_result"
    }
   ],
   "source": [
    "decoder_inputs[0].shape"
   ]
  },
  {
   "cell_type": "code",
   "execution_count": 1161,
   "metadata": {},
   "outputs": [],
   "source": [
    "NUM_PLAYS = 21\n",
    "NUM_FEATURES = 35\n",
    "hidden_size = 128\n",
    "EPOCHS = 20\n",
    "BATCH_SIZE = 256\n",
    "MASK_VAL = -1.1"
   ]
  },
  {
   "cell_type": "code",
   "execution_count": 1162,
   "metadata": {},
   "outputs": [
    {
     "data": {
      "text/plain": [
       "array([[-1.100e+00, -1.100e+00, -1.100e+00, -1.100e+00, -1.100e+00,\n",
       "        -1.100e+00, -1.100e+00, -1.100e+00, -1.100e+00, -1.100e+00,\n",
       "        -1.100e+00, -1.100e+00, -1.100e+00, -1.100e+00, -1.100e+00,\n",
       "        -1.100e+00, -1.100e+00, -1.100e+00, -1.100e+00, -1.100e+00,\n",
       "        -1.100e+00, -1.100e+00, -1.100e+00, -1.100e+00, -1.100e+00,\n",
       "        -1.100e+00, -1.100e+00, -1.100e+00, -1.100e+00, -1.100e+00,\n",
       "        -1.100e+00, -1.100e+00, -1.100e+00, -1.100e+00, -1.100e+00],\n",
       "       [-1.100e+00, -1.100e+00, -1.100e+00, -1.100e+00, -1.100e+00,\n",
       "        -1.100e+00, -1.100e+00, -1.100e+00, -1.100e+00, -1.100e+00,\n",
       "        -1.100e+00, -1.100e+00, -1.100e+00, -1.100e+00, -1.100e+00,\n",
       "        -1.100e+00, -1.100e+00, -1.100e+00, -1.100e+00, -1.100e+00,\n",
       "        -1.100e+00, -1.100e+00, -1.100e+00, -1.100e+00, -1.100e+00,\n",
       "        -1.100e+00, -1.100e+00, -1.100e+00, -1.100e+00, -1.100e+00,\n",
       "        -1.100e+00, -1.100e+00, -1.100e+00, -1.100e+00, -1.100e+00],\n",
       "       [-1.100e+00, -1.100e+00, -1.100e+00, -1.100e+00, -1.100e+00,\n",
       "        -1.100e+00, -1.100e+00, -1.100e+00, -1.100e+00, -1.100e+00,\n",
       "        -1.100e+00, -1.100e+00, -1.100e+00, -1.100e+00, -1.100e+00,\n",
       "        -1.100e+00, -1.100e+00, -1.100e+00, -1.100e+00, -1.100e+00,\n",
       "        -1.100e+00, -1.100e+00, -1.100e+00, -1.100e+00, -1.100e+00,\n",
       "        -1.100e+00, -1.100e+00, -1.100e+00, -1.100e+00, -1.100e+00,\n",
       "        -1.100e+00, -1.100e+00, -1.100e+00, -1.100e+00, -1.100e+00],\n",
       "       [-1.100e+00, -1.100e+00, -1.100e+00, -1.100e+00, -1.100e+00,\n",
       "        -1.100e+00, -1.100e+00, -1.100e+00, -1.100e+00, -1.100e+00,\n",
       "        -1.100e+00, -1.100e+00, -1.100e+00, -1.100e+00, -1.100e+00,\n",
       "        -1.100e+00, -1.100e+00, -1.100e+00, -1.100e+00, -1.100e+00,\n",
       "        -1.100e+00, -1.100e+00, -1.100e+00, -1.100e+00, -1.100e+00,\n",
       "        -1.100e+00, -1.100e+00, -1.100e+00, -1.100e+00, -1.100e+00,\n",
       "        -1.100e+00, -1.100e+00, -1.100e+00, -1.100e+00, -1.100e+00],\n",
       "       [-1.100e+00, -1.100e+00, -1.100e+00, -1.100e+00, -1.100e+00,\n",
       "        -1.100e+00, -1.100e+00, -1.100e+00, -1.100e+00, -1.100e+00,\n",
       "        -1.100e+00, -1.100e+00, -1.100e+00, -1.100e+00, -1.100e+00,\n",
       "        -1.100e+00, -1.100e+00, -1.100e+00, -1.100e+00, -1.100e+00,\n",
       "        -1.100e+00, -1.100e+00, -1.100e+00, -1.100e+00, -1.100e+00,\n",
       "        -1.100e+00, -1.100e+00, -1.100e+00, -1.100e+00, -1.100e+00,\n",
       "        -1.100e+00, -1.100e+00, -1.100e+00, -1.100e+00, -1.100e+00],\n",
       "       [-1.100e+00, -1.100e+00, -1.100e+00, -1.100e+00, -1.100e+00,\n",
       "        -1.100e+00, -1.100e+00, -1.100e+00, -1.100e+00, -1.100e+00,\n",
       "        -1.100e+00, -1.100e+00, -1.100e+00, -1.100e+00, -1.100e+00,\n",
       "        -1.100e+00, -1.100e+00, -1.100e+00, -1.100e+00, -1.100e+00,\n",
       "        -1.100e+00, -1.100e+00, -1.100e+00, -1.100e+00, -1.100e+00,\n",
       "        -1.100e+00, -1.100e+00, -1.100e+00, -1.100e+00, -1.100e+00,\n",
       "        -1.100e+00, -1.100e+00, -1.100e+00, -1.100e+00, -1.100e+00],\n",
       "       [-1.100e+00, -1.100e+00, -1.100e+00, -1.100e+00, -1.100e+00,\n",
       "        -1.100e+00, -1.100e+00, -1.100e+00, -1.100e+00, -1.100e+00,\n",
       "        -1.100e+00, -1.100e+00, -1.100e+00, -1.100e+00, -1.100e+00,\n",
       "        -1.100e+00, -1.100e+00, -1.100e+00, -1.100e+00, -1.100e+00,\n",
       "        -1.100e+00, -1.100e+00, -1.100e+00, -1.100e+00, -1.100e+00,\n",
       "        -1.100e+00, -1.100e+00, -1.100e+00, -1.100e+00, -1.100e+00,\n",
       "        -1.100e+00, -1.100e+00, -1.100e+00, -1.100e+00, -1.100e+00],\n",
       "       [-1.100e+00, -1.100e+00, -1.100e+00, -1.100e+00, -1.100e+00,\n",
       "        -1.100e+00, -1.100e+00, -1.100e+00, -1.100e+00, -1.100e+00,\n",
       "        -1.100e+00, -1.100e+00, -1.100e+00, -1.100e+00, -1.100e+00,\n",
       "        -1.100e+00, -1.100e+00, -1.100e+00, -1.100e+00, -1.100e+00,\n",
       "        -1.100e+00, -1.100e+00, -1.100e+00, -1.100e+00, -1.100e+00,\n",
       "        -1.100e+00, -1.100e+00, -1.100e+00, -1.100e+00, -1.100e+00,\n",
       "        -1.100e+00, -1.100e+00, -1.100e+00, -1.100e+00, -1.100e+00],\n",
       "       [-1.100e+00, -1.100e+00, -1.100e+00, -1.100e+00, -1.100e+00,\n",
       "        -1.100e+00, -1.100e+00, -1.100e+00, -1.100e+00, -1.100e+00,\n",
       "        -1.100e+00, -1.100e+00, -1.100e+00, -1.100e+00, -1.100e+00,\n",
       "        -1.100e+00, -1.100e+00, -1.100e+00, -1.100e+00, -1.100e+00,\n",
       "        -1.100e+00, -1.100e+00, -1.100e+00, -1.100e+00, -1.100e+00,\n",
       "        -1.100e+00, -1.100e+00, -1.100e+00, -1.100e+00, -1.100e+00,\n",
       "        -1.100e+00, -1.100e+00, -1.100e+00, -1.100e+00, -1.100e+00],\n",
       "       [-1.100e+00, -1.100e+00, -1.100e+00, -1.100e+00, -1.100e+00,\n",
       "        -1.100e+00, -1.100e+00, -1.100e+00, -1.100e+00, -1.100e+00,\n",
       "        -1.100e+00, -1.100e+00, -1.100e+00, -1.100e+00, -1.100e+00,\n",
       "        -1.100e+00, -1.100e+00, -1.100e+00, -1.100e+00, -1.100e+00,\n",
       "        -1.100e+00, -1.100e+00, -1.100e+00, -1.100e+00, -1.100e+00,\n",
       "        -1.100e+00, -1.100e+00, -1.100e+00, -1.100e+00, -1.100e+00,\n",
       "        -1.100e+00, -1.100e+00, -1.100e+00, -1.100e+00, -1.100e+00],\n",
       "       [-1.100e+00, -1.100e+00, -1.100e+00, -1.100e+00, -1.100e+00,\n",
       "        -1.100e+00, -1.100e+00, -1.100e+00, -1.100e+00, -1.100e+00,\n",
       "        -1.100e+00, -1.100e+00, -1.100e+00, -1.100e+00, -1.100e+00,\n",
       "        -1.100e+00, -1.100e+00, -1.100e+00, -1.100e+00, -1.100e+00,\n",
       "        -1.100e+00, -1.100e+00, -1.100e+00, -1.100e+00, -1.100e+00,\n",
       "        -1.100e+00, -1.100e+00, -1.100e+00, -1.100e+00, -1.100e+00,\n",
       "        -1.100e+00, -1.100e+00, -1.100e+00, -1.100e+00, -1.100e+00],\n",
       "       [-1.100e+00, -1.100e+00, -1.100e+00, -1.100e+00, -1.100e+00,\n",
       "        -1.100e+00, -1.100e+00, -1.100e+00, -1.100e+00, -1.100e+00,\n",
       "        -1.100e+00, -1.100e+00, -1.100e+00, -1.100e+00, -1.100e+00,\n",
       "        -1.100e+00, -1.100e+00, -1.100e+00, -1.100e+00, -1.100e+00,\n",
       "        -1.100e+00, -1.100e+00, -1.100e+00, -1.100e+00, -1.100e+00,\n",
       "        -1.100e+00, -1.100e+00, -1.100e+00, -1.100e+00, -1.100e+00,\n",
       "        -1.100e+00, -1.100e+00, -1.100e+00, -1.100e+00, -1.100e+00],\n",
       "       [-1.100e+00, -1.100e+00, -1.100e+00, -1.100e+00, -1.100e+00,\n",
       "        -1.100e+00, -1.100e+00, -1.100e+00, -1.100e+00, -1.100e+00,\n",
       "        -1.100e+00, -1.100e+00, -1.100e+00, -1.100e+00, -1.100e+00,\n",
       "        -1.100e+00, -1.100e+00, -1.100e+00, -1.100e+00, -1.100e+00,\n",
       "        -1.100e+00, -1.100e+00, -1.100e+00, -1.100e+00, -1.100e+00,\n",
       "        -1.100e+00, -1.100e+00, -1.100e+00, -1.100e+00, -1.100e+00,\n",
       "        -1.100e+00, -1.100e+00, -1.100e+00, -1.100e+00, -1.100e+00],\n",
       "       [-1.100e+00, -1.100e+00, -1.100e+00, -1.100e+00, -1.100e+00,\n",
       "        -1.100e+00, -1.100e+00, -1.100e+00, -1.100e+00, -1.100e+00,\n",
       "        -1.100e+00, -1.100e+00, -1.100e+00, -1.100e+00, -1.100e+00,\n",
       "        -1.100e+00, -1.100e+00, -1.100e+00, -1.100e+00, -1.100e+00,\n",
       "        -1.100e+00, -1.100e+00, -1.100e+00, -1.100e+00, -1.100e+00,\n",
       "        -1.100e+00, -1.100e+00, -1.100e+00, -1.100e+00, -1.100e+00,\n",
       "        -1.100e+00, -1.100e+00, -1.100e+00, -1.100e+00, -1.100e+00],\n",
       "       [-1.100e+00, -1.100e+00, -1.100e+00, -1.100e+00, -1.100e+00,\n",
       "        -1.100e+00, -1.100e+00, -1.100e+00, -1.100e+00, -1.100e+00,\n",
       "        -1.100e+00, -1.100e+00, -1.100e+00, -1.100e+00, -1.100e+00,\n",
       "        -1.100e+00, -1.100e+00, -1.100e+00, -1.100e+00, -1.100e+00,\n",
       "        -1.100e+00, -1.100e+00, -1.100e+00, -1.100e+00, -1.100e+00,\n",
       "        -1.100e+00, -1.100e+00, -1.100e+00, -1.100e+00, -1.100e+00,\n",
       "        -1.100e+00, -1.100e+00, -1.100e+00, -1.100e+00, -1.100e+00],\n",
       "       [-1.100e+00, -1.100e+00, -1.100e+00, -1.100e+00, -1.100e+00,\n",
       "        -1.100e+00, -1.100e+00, -1.100e+00, -1.100e+00, -1.100e+00,\n",
       "        -1.100e+00, -1.100e+00, -1.100e+00, -1.100e+00, -1.100e+00,\n",
       "        -1.100e+00, -1.100e+00, -1.100e+00, -1.100e+00, -1.100e+00,\n",
       "        -1.100e+00, -1.100e+00, -1.100e+00, -1.100e+00, -1.100e+00,\n",
       "        -1.100e+00, -1.100e+00, -1.100e+00, -1.100e+00, -1.100e+00,\n",
       "        -1.100e+00, -1.100e+00, -1.100e+00, -1.100e+00, -1.100e+00],\n",
       "       [-1.100e+00, -1.100e+00, -1.100e+00, -1.100e+00, -1.100e+00,\n",
       "        -1.100e+00, -1.100e+00, -1.100e+00, -1.100e+00, -1.100e+00,\n",
       "        -1.100e+00, -1.100e+00, -1.100e+00, -1.100e+00, -1.100e+00,\n",
       "        -1.100e+00, -1.100e+00, -1.100e+00, -1.100e+00, -1.100e+00,\n",
       "        -1.100e+00, -1.100e+00, -1.100e+00, -1.100e+00, -1.100e+00,\n",
       "        -1.100e+00, -1.100e+00, -1.100e+00, -1.100e+00, -1.100e+00,\n",
       "        -1.100e+00, -1.100e+00, -1.100e+00, -1.100e+00, -1.100e+00],\n",
       "       [-1.100e+00, -1.100e+00, -1.100e+00, -1.100e+00, -1.100e+00,\n",
       "        -1.100e+00, -1.100e+00, -1.100e+00, -1.100e+00, -1.100e+00,\n",
       "        -1.100e+00, -1.100e+00, -1.100e+00, -1.100e+00, -1.100e+00,\n",
       "        -1.100e+00, -1.100e+00, -1.100e+00, -1.100e+00, -1.100e+00,\n",
       "        -1.100e+00, -1.100e+00, -1.100e+00, -1.100e+00, -1.100e+00,\n",
       "        -1.100e+00, -1.100e+00, -1.100e+00, -1.100e+00, -1.100e+00,\n",
       "        -1.100e+00, -1.100e+00, -1.100e+00, -1.100e+00, -1.100e+00],\n",
       "       [-1.100e+00, -1.100e+00, -1.100e+00, -1.100e+00, -1.100e+00,\n",
       "        -1.100e+00, -1.100e+00, -1.100e+00, -1.100e+00, -1.100e+00,\n",
       "        -1.100e+00, -1.100e+00, -1.100e+00, -1.100e+00, -1.100e+00,\n",
       "        -1.100e+00, -1.100e+00, -1.100e+00, -1.100e+00, -1.100e+00,\n",
       "        -1.100e+00, -1.100e+00, -1.100e+00, -1.100e+00, -1.100e+00,\n",
       "        -1.100e+00, -1.100e+00, -1.100e+00, -1.100e+00, -1.100e+00,\n",
       "        -1.100e+00, -1.100e+00, -1.100e+00, -1.100e+00, -1.100e+00],\n",
       "       [ 5.800e+01,  8.930e+02,  1.793e+03,  3.593e+03,  0.000e+00,\n",
       "         1.000e+00,  0.000e+00,  1.000e+00,  1.000e+00,  0.000e+00,\n",
       "         1.000e+01,  5.000e+00,  5.000e+00,  0.000e+00,  0.000e+00,\n",
       "         3.000e+00,  3.000e+00,  3.000e+00,  0.000e+00,  0.000e+00,\n",
       "         3.000e+00,  0.000e+00,  3.000e+00,  3.000e+00,  0.000e+00,\n",
       "         3.000e+00,  0.000e+00,  0.000e+00,  0.000e+00,  0.000e+00,\n",
       "         0.000e+00,  0.000e+00,  0.000e+00,  0.000e+00,  1.000e+00],\n",
       "       [ 5.300e+01,  8.560e+02,  1.756e+03,  3.556e+03,  0.000e+00,\n",
       "         1.000e+00,  0.000e+00,  1.000e+00,  2.000e+00,  0.000e+00,\n",
       "         5.000e+00,  2.000e+00, -3.000e+00,  0.000e+00,  0.000e+00,\n",
       "         3.000e+00,  3.000e+00,  3.000e+00,  0.000e+00,  0.000e+00,\n",
       "         3.000e+00,  0.000e+00,  3.000e+00,  3.000e+00,  0.000e+00,\n",
       "         3.000e+00,  0.000e+00,  0.000e+00,  0.000e+00,  0.000e+00,\n",
       "         0.000e+00,  0.000e+00,  0.000e+00,  0.000e+00,  2.000e+00]],\n",
       "      dtype=float32)"
      ]
     },
     "execution_count": 1162,
     "metadata": {},
     "output_type": "execute_result"
    }
   ],
   "source": [
    "x[0]"
   ]
  },
  {
   "cell_type": "code",
   "execution_count": 1163,
   "metadata": {},
   "outputs": [],
   "source": [
    "# decoder_inputs[1]"
   ]
  },
  {
   "cell_type": "code",
   "execution_count": 1164,
   "metadata": {},
   "outputs": [
    {
     "data": {
      "text/plain": [
       "array([5.600e+01, 8.150e+02, 1.715e+03, 3.515e+03, 0.000e+00, 1.000e+00,\n",
       "       0.000e+00, 1.000e+00, 3.000e+00, 0.000e+00, 8.000e+00, 2.000e+00,\n",
       "       0.000e+00, 1.000e+00, 0.000e+00, 3.000e+00, 3.000e+00, 3.000e+00,\n",
       "       0.000e+00, 0.000e+00, 3.000e+00, 0.000e+00, 3.000e+00, 3.000e+00,\n",
       "       0.000e+00, 3.000e+00, 0.000e+00, 0.000e+00, 0.000e+00, 0.000e+00,\n",
       "       0.000e+00, 0.000e+00, 0.000e+00, 0.000e+00, 1.000e+00])"
      ]
     },
     "execution_count": 1164,
     "metadata": {},
     "output_type": "execute_result"
    }
   ],
   "source": [
    "y[0]"
   ]
  },
  {
   "cell_type": "markdown",
   "metadata": {},
   "source": [
    "# Train-Test Split"
   ]
  },
  {
   "cell_type": "code",
   "execution_count": 1165,
   "metadata": {},
   "outputs": [],
   "source": [
    "x_train, x_test, decoder_inputs_train, decoder_inputs_test, y_train, y_test = train_test_split(x, decoder_inputs, y, test_size=0.2, random_state=1819)"
   ]
  },
  {
   "cell_type": "code",
   "execution_count": 1166,
   "metadata": {},
   "outputs": [
    {
     "data": {
      "text/plain": [
       "((212103, 21, 35), (53026, 21, 35))"
      ]
     },
     "execution_count": 1166,
     "metadata": {},
     "output_type": "execute_result"
    }
   ],
   "source": [
    "x_train.shape, x_test.shape"
   ]
  },
  {
   "cell_type": "code",
   "execution_count": 1167,
   "metadata": {},
   "outputs": [
    {
     "data": {
      "text/plain": [
       "((212103, 35), (53026, 35))"
      ]
     },
     "execution_count": 1167,
     "metadata": {},
     "output_type": "execute_result"
    }
   ],
   "source": [
    "y_train.shape, y_test.shape"
   ]
  },
  {
   "cell_type": "code",
   "execution_count": 1168,
   "metadata": {},
   "outputs": [
    {
     "data": {
      "text/plain": [
       "((212103, 35), (53026, 35))"
      ]
     },
     "execution_count": 1168,
     "metadata": {},
     "output_type": "execute_result"
    }
   ],
   "source": [
    "decoder_inputs_train.shape, decoder_inputs_test.shape"
   ]
  },
  {
   "cell_type": "markdown",
   "metadata": {},
   "source": [
    "## Model Creation Attempt 1\n",
    "\n",
    "This seemed to fail because of the autoregressive nature of the problem. Will attempt again implementing more of an autoregressive model."
   ]
  },
  {
   "cell_type": "markdown",
   "metadata": {},
   "source": [
    "### Encoder"
   ]
  },
  {
   "cell_type": "code",
   "execution_count": 1169,
   "metadata": {},
   "outputs": [],
   "source": [
    "# encoder_inputs = Input((NUM_PLAYS, NUM_FEATURES))\n",
    "# encoder_inputs = Masking(mask_value=MASK_VAL)(encoder_inputs)\n",
    "# encoder_inputs = BatchNormalization()(encoder_inputs)\n",
    "\n",
    "# encoder_lstm1 = LSTM(hidden_size, return_state=True, return_sequences=True)\n",
    "# encoder_outputs1, state_h1, state_c1 = encoder_lstm1(encoder_inputs)\n",
    "# encoder_states = [state_h1, state_c1]\n",
    "\n",
    "# encoder_lstm2 = LSTM(hidden_size, return_state=True, return_sequences=False) \n",
    "# encoder_outputs2, state_h2, state_c2 = encoder_lstm2(encoder_outputs1)\n",
    "# encoder_states = [state_h2, state_c2]"
   ]
  },
  {
   "cell_type": "markdown",
   "metadata": {},
   "source": [
    "### Decoder"
   ]
  },
  {
   "cell_type": "code",
   "execution_count": 1170,
   "metadata": {},
   "outputs": [],
   "source": [
    "# decoder_inputs = Input((NUM_PLAYS, NUM_FEATURES))\n",
    "# decoder_inputs = BatchNormalization()(decoder_inputs)\n",
    "\n",
    "# # # Deprecated\n",
    "# # # No need for LSTM in decoder since only trying to predict a single vector\n",
    "# decoder_inputs = Masking(mask_value=MASK_VAL)(decoder_inputs)       # TODO: Mask before normalize\n",
    "# decoder_lstm = LSTM(hidden_size, return_sequences=True, return_state=True)\n",
    "# decoder_outputs, _, _ = decoder_lstm(decoder_inputs, initial_state=encoder_states)\n",
    "\n",
    "# decoder_dense = Dense(NUM_FEATURES, activation=\"linear\")\n",
    "# decoder_outputs = decoder_dense(decoder_inputs)\n"
   ]
  },
  {
   "cell_type": "code",
   "execution_count": 1171,
   "metadata": {},
   "outputs": [],
   "source": [
    "# print(f\"Encoder mask: {encoder_inputs._keras_mask}\")"
   ]
  },
  {
   "cell_type": "markdown",
   "metadata": {},
   "source": [
    "### Full Model"
   ]
  },
  {
   "cell_type": "code",
   "execution_count": 1172,
   "metadata": {},
   "outputs": [],
   "source": [
    "# model1 = Model([encoder_inputs, decoder_inputs], decoder_outputs)"
   ]
  },
  {
   "cell_type": "markdown",
   "metadata": {},
   "source": [
    "# Model Attempt 2\n",
    "\n",
    "Here, we will be implementing an autoregressive model. Essentially, its an encoder-decoder without the LSTM in the decoder. The back half of the network is a fully-connected layer which can take the latent space encoding and produce a vector of shape (35,)."
   ]
  },
  {
   "cell_type": "code",
   "execution_count": 1173,
   "metadata": {},
   "outputs": [],
   "source": [
    "# model2 = Sequential([\n",
    "#     Input((NUM_PLAYS, NUM_FEATURES)),\n",
    "#     Masking(mask_value=MASK_VAL),\n",
    "#     BatchNormalization(),\n",
    "#     LSTM(hidden_size, return_sequences=True, return_state=False),\n",
    "#     LSTM(hidden_size, return_sequences=False, return_state=False),\n",
    "#     Dense(hidden_size, activation=\"relu\", kernel_regularizer=\"l2\"),\n",
    "#     Dense(NUM_FEATURES, activation=\"linear\")\n",
    "# ])"
   ]
  },
  {
   "cell_type": "markdown",
   "metadata": {},
   "source": [
    "# Model Attempt 3:\n",
    "\n",
    "Here, we are going to stick to the encoder-decoder framework, except explicitly force it to be a sequence-to-vector model"
   ]
  },
  {
   "cell_type": "code",
   "execution_count": 1179,
   "metadata": {},
   "outputs": [],
   "source": [
    "# Encoder\n",
    "\n",
    "encoder_inputs = Input((NUM_PLAYS, NUM_FEATURES))\n",
    "encoder_inputs = Masking(mask_value=MASK_VAL)(encoder_inputs)\n",
    "encoder_inputs = BatchNormalization()(encoder_inputs)\n",
    "\n",
    "encoder_lstm1 = LSTM(hidden_size, return_state=True, return_sequences=True)\n",
    "encoder_outputs1, state_h1, state_c1 = encoder_lstm1(encoder_inputs)\n",
    "encoder_states = [state_h1, state_c1]\n",
    "\n",
    "encoder_lstm2 = LSTM(hidden_size, return_state=True, return_sequences=False) \n",
    "encoder_outputs2, state_h2, state_c2 = encoder_lstm2(encoder_outputs1)\n",
    "encoder_states = [state_h2, state_c2]\n",
    "\n",
    "# Decoder\n",
    "decoder_inputs = Input((NUM_FEATURES, ))\n",
    "decoder_inputs = Masking(mask_value=MASK_VAL)(decoder_inputs) \n",
    "decoder_inputs = BatchNormalization()(decoder_inputs)\n",
    "\n",
    "# Deprecated\n",
    "# # No need for LSTM in decoder since only trying to predict a single vector\n",
    "      # TODO: Mask before normalize\n",
    "# decoder_lstm = LSTM(hidden_size, return_sequences=True, return_state=True)\n",
    "# decoder_outputs, _, _ = decoder_lstm(decoder_inputs, initial_state=encoder_states)\n",
    "\n",
    "decoder_dense = Dense(NUM_FEATURES, activation=\"linear\")\n",
    "decoder_outputs = decoder_dense(decoder_inputs)\n",
    "\n",
    "model3 = Model([encoder_inputs, decoder_inputs], decoder_outputs)"
   ]
  },
  {
   "cell_type": "code",
   "execution_count": 1180,
   "metadata": {},
   "outputs": [],
   "source": [
    "model3.compile(optimizer=\"adam\", loss=\"mean_squared_error\", metrics=[\"accuracy\", \"MSE\"])"
   ]
  },
  {
   "cell_type": "code",
   "execution_count": 1181,
   "metadata": {},
   "outputs": [
    {
     "data": {
      "text/html": [
       "<pre style=\"white-space:pre;overflow-x:auto;line-height:normal;font-family:Menlo,'DejaVu Sans Mono',consolas,'Courier New',monospace\"><span style=\"font-weight: bold\">Model: \"functional_53\"</span>\n",
       "</pre>\n"
      ],
      "text/plain": [
       "\u001b[1mModel: \"functional_53\"\u001b[0m\n"
      ]
     },
     "metadata": {},
     "output_type": "display_data"
    },
    {
     "data": {
      "text/html": [
       "<pre style=\"white-space:pre;overflow-x:auto;line-height:normal;font-family:Menlo,'DejaVu Sans Mono',consolas,'Courier New',monospace\">┏━━━━━━━━━━━━━━━━━━━━━┳━━━━━━━━━━━━━━━━━━━┳━━━━━━━━━━━━┳━━━━━━━━━━━━━━━━━━━┓\n",
       "┃<span style=\"font-weight: bold\"> Layer (type)        </span>┃<span style=\"font-weight: bold\"> Output Shape      </span>┃<span style=\"font-weight: bold\">    Param # </span>┃<span style=\"font-weight: bold\"> Connected to      </span>┃\n",
       "┡━━━━━━━━━━━━━━━━━━━━━╇━━━━━━━━━━━━━━━━━━━╇━━━━━━━━━━━━╇━━━━━━━━━━━━━━━━━━━┩\n",
       "│ keras_tensor_1057C… │ (<span style=\"color: #00d7ff; text-decoration-color: #00d7ff\">None</span>, <span style=\"color: #00af00; text-decoration-color: #00af00\">35</span>)        │          <span style=\"color: #00af00; text-decoration-color: #00af00\">0</span> │ -                 │\n",
       "│ (<span style=\"color: #0087ff; text-decoration-color: #0087ff\">InputLayer</span>)        │                   │            │                   │\n",
       "├─────────────────────┼───────────────────┼────────────┼───────────────────┤\n",
       "│ keras_tensor_1046C… │ (<span style=\"color: #00d7ff; text-decoration-color: #00d7ff\">None</span>, <span style=\"color: #00af00; text-decoration-color: #00af00\">21</span>, <span style=\"color: #00af00; text-decoration-color: #00af00\">35</span>)    │          <span style=\"color: #00af00; text-decoration-color: #00af00\">0</span> │ -                 │\n",
       "│ (<span style=\"color: #0087ff; text-decoration-color: #0087ff\">InputLayer</span>)        │                   │            │                   │\n",
       "├─────────────────────┼───────────────────┼────────────┼───────────────────┤\n",
       "│ dense_79 (<span style=\"color: #0087ff; text-decoration-color: #0087ff\">Dense</span>)    │ (<span style=\"color: #00d7ff; text-decoration-color: #00d7ff\">None</span>, <span style=\"color: #00af00; text-decoration-color: #00af00\">35</span>)        │      <span style=\"color: #00af00; text-decoration-color: #00af00\">1,260</span> │ keras_tensor_105… │\n",
       "└─────────────────────┴───────────────────┴────────────┴───────────────────┘\n",
       "</pre>\n"
      ],
      "text/plain": [
       "┏━━━━━━━━━━━━━━━━━━━━━┳━━━━━━━━━━━━━━━━━━━┳━━━━━━━━━━━━┳━━━━━━━━━━━━━━━━━━━┓\n",
       "┃\u001b[1m \u001b[0m\u001b[1mLayer (type)       \u001b[0m\u001b[1m \u001b[0m┃\u001b[1m \u001b[0m\u001b[1mOutput Shape     \u001b[0m\u001b[1m \u001b[0m┃\u001b[1m \u001b[0m\u001b[1m   Param #\u001b[0m\u001b[1m \u001b[0m┃\u001b[1m \u001b[0m\u001b[1mConnected to     \u001b[0m\u001b[1m \u001b[0m┃\n",
       "┡━━━━━━━━━━━━━━━━━━━━━╇━━━━━━━━━━━━━━━━━━━╇━━━━━━━━━━━━╇━━━━━━━━━━━━━━━━━━━┩\n",
       "│ keras_tensor_1057C… │ (\u001b[38;5;45mNone\u001b[0m, \u001b[38;5;34m35\u001b[0m)        │          \u001b[38;5;34m0\u001b[0m │ -                 │\n",
       "│ (\u001b[38;5;33mInputLayer\u001b[0m)        │                   │            │                   │\n",
       "├─────────────────────┼───────────────────┼────────────┼───────────────────┤\n",
       "│ keras_tensor_1046C… │ (\u001b[38;5;45mNone\u001b[0m, \u001b[38;5;34m21\u001b[0m, \u001b[38;5;34m35\u001b[0m)    │          \u001b[38;5;34m0\u001b[0m │ -                 │\n",
       "│ (\u001b[38;5;33mInputLayer\u001b[0m)        │                   │            │                   │\n",
       "├─────────────────────┼───────────────────┼────────────┼───────────────────┤\n",
       "│ dense_79 (\u001b[38;5;33mDense\u001b[0m)    │ (\u001b[38;5;45mNone\u001b[0m, \u001b[38;5;34m35\u001b[0m)        │      \u001b[38;5;34m1,260\u001b[0m │ keras_tensor_105… │\n",
       "└─────────────────────┴───────────────────┴────────────┴───────────────────┘\n"
      ]
     },
     "metadata": {},
     "output_type": "display_data"
    },
    {
     "data": {
      "text/html": [
       "<pre style=\"white-space:pre;overflow-x:auto;line-height:normal;font-family:Menlo,'DejaVu Sans Mono',consolas,'Courier New',monospace\"><span style=\"font-weight: bold\"> Total params: </span><span style=\"color: #00af00; text-decoration-color: #00af00\">1,260</span> (4.92 KB)\n",
       "</pre>\n"
      ],
      "text/plain": [
       "\u001b[1m Total params: \u001b[0m\u001b[38;5;34m1,260\u001b[0m (4.92 KB)\n"
      ]
     },
     "metadata": {},
     "output_type": "display_data"
    },
    {
     "data": {
      "text/html": [
       "<pre style=\"white-space:pre;overflow-x:auto;line-height:normal;font-family:Menlo,'DejaVu Sans Mono',consolas,'Courier New',monospace\"><span style=\"font-weight: bold\"> Trainable params: </span><span style=\"color: #00af00; text-decoration-color: #00af00\">1,260</span> (4.92 KB)\n",
       "</pre>\n"
      ],
      "text/plain": [
       "\u001b[1m Trainable params: \u001b[0m\u001b[38;5;34m1,260\u001b[0m (4.92 KB)\n"
      ]
     },
     "metadata": {},
     "output_type": "display_data"
    },
    {
     "data": {
      "text/html": [
       "<pre style=\"white-space:pre;overflow-x:auto;line-height:normal;font-family:Menlo,'DejaVu Sans Mono',consolas,'Courier New',monospace\"><span style=\"font-weight: bold\"> Non-trainable params: </span><span style=\"color: #00af00; text-decoration-color: #00af00\">0</span> (0.00 B)\n",
       "</pre>\n"
      ],
      "text/plain": [
       "\u001b[1m Non-trainable params: \u001b[0m\u001b[38;5;34m0\u001b[0m (0.00 B)\n"
      ]
     },
     "metadata": {},
     "output_type": "display_data"
    }
   ],
   "source": [
    "model3.summary()"
   ]
  },
  {
   "cell_type": "code",
   "execution_count": 1182,
   "metadata": {},
   "outputs": [
    {
     "name": "stdout",
     "output_type": "stream",
     "text": [
      "x_train shape: (212103, 21, 35)\n",
      "decoder_inputs_train shape: (212103, 35)\n",
      "y_train shape: (212103, 35)\n"
     ]
    }
   ],
   "source": [
    "print(f\"x_train shape: {x_train.shape}\")\n",
    "print(f\"decoder_inputs_train shape: {decoder_inputs_train.shape}\")\n",
    "print(f\"y_train shape: {y_train.shape}\")"
   ]
  },
  {
   "cell_type": "markdown",
   "metadata": {},
   "source": [
    "## Model Training"
   ]
  },
  {
   "cell_type": "code",
   "execution_count": 1183,
   "metadata": {},
   "outputs": [
    {
     "name": "stdout",
     "output_type": "stream",
     "text": [
      "Epoch 1/20\n"
     ]
    },
    {
     "name": "stderr",
     "output_type": "stream",
     "text": [
      "/Library/Frameworks/Python.framework/Versions/3.12/lib/python3.12/site-packages/keras/src/models/functional.py:225: UserWarning: The structure of `inputs` doesn't match the expected structure: ['keras_tensor_1046CLONE', 'keras_tensor_1057CLONE']. Received: the structure of inputs=('*', '*')\n",
      "  warnings.warn(\n"
     ]
    },
    {
     "name": "stdout",
     "output_type": "stream",
     "text": [
      "\u001b[1m829/829\u001b[0m \u001b[32m━━━━━━━━━━━━━━━━━━━━\u001b[0m\u001b[37m\u001b[0m \u001b[1m1s\u001b[0m 596us/step - MSE: 142156.4844 - accuracy: 0.3147 - loss: 142156.4844 - val_MSE: 8804.1367 - val_accuracy: 0.4994 - val_loss: 8804.1367\n",
      "Epoch 2/20\n",
      "\u001b[1m829/829\u001b[0m \u001b[32m━━━━━━━━━━━━━━━━━━━━\u001b[0m\u001b[37m\u001b[0m \u001b[1m0s\u001b[0m 492us/step - MSE: 6423.9971 - accuracy: 0.5006 - loss: 6423.9971 - val_MSE: 3151.6763 - val_accuracy: 0.4994 - val_loss: 3151.6763\n",
      "Epoch 3/20\n",
      "\u001b[1m829/829\u001b[0m \u001b[32m━━━━━━━━━━━━━━━━━━━━\u001b[0m\u001b[37m\u001b[0m \u001b[1m0s\u001b[0m 546us/step - MSE: 2580.7666 - accuracy: 0.4963 - loss: 2580.7666 - val_MSE: 1183.7838 - val_accuracy: 0.5021 - val_loss: 1183.7838\n",
      "Epoch 4/20\n",
      "\u001b[1m829/829\u001b[0m \u001b[32m━━━━━━━━━━━━━━━━━━━━\u001b[0m\u001b[37m\u001b[0m \u001b[1m0s\u001b[0m 479us/step - MSE: 900.0389 - accuracy: 0.5065 - loss: 900.0389 - val_MSE: 302.7298 - val_accuracy: 0.5289 - val_loss: 302.7298\n",
      "Epoch 5/20\n",
      "\u001b[1m829/829\u001b[0m \u001b[32m━━━━━━━━━━━━━━━━━━━━\u001b[0m\u001b[37m\u001b[0m \u001b[1m0s\u001b[0m 503us/step - MSE: 214.4456 - accuracy: 0.5361 - loss: 214.4456 - val_MSE: 55.5514 - val_accuracy: 0.5590 - val_loss: 55.5514\n",
      "Epoch 6/20\n",
      "\u001b[1m829/829\u001b[0m \u001b[32m━━━━━━━━━━━━━━━━━━━━\u001b[0m\u001b[37m\u001b[0m \u001b[1m0s\u001b[0m 580us/step - MSE: 38.9512 - accuracy: 0.5635 - loss: 38.9512 - val_MSE: 12.9935 - val_accuracy: 0.5848 - val_loss: 12.9935\n",
      "Epoch 7/20\n",
      "\u001b[1m829/829\u001b[0m \u001b[32m━━━━━━━━━━━━━━━━━━━━\u001b[0m\u001b[37m\u001b[0m \u001b[1m0s\u001b[0m 574us/step - MSE: 10.6939 - accuracy: 0.5991 - loss: 10.6939 - val_MSE: 6.7614 - val_accuracy: 0.6467 - val_loss: 6.7614\n",
      "Epoch 8/20\n",
      "\u001b[1m829/829\u001b[0m \u001b[32m━━━━━━━━━━━━━━━━━━━━\u001b[0m\u001b[37m\u001b[0m \u001b[1m0s\u001b[0m 470us/step - MSE: 6.0950 - accuracy: 0.6548 - loss: 6.0950 - val_MSE: 4.4685 - val_accuracy: 0.6720 - val_loss: 4.4685\n",
      "Epoch 9/20\n",
      "\u001b[1m829/829\u001b[0m \u001b[32m━━━━━━━━━━━━━━━━━━━━\u001b[0m\u001b[37m\u001b[0m \u001b[1m0s\u001b[0m 489us/step - MSE: 3.9640 - accuracy: 0.6706 - loss: 3.9640 - val_MSE: 2.7681 - val_accuracy: 0.6675 - val_loss: 2.7681\n",
      "Epoch 10/20\n",
      "\u001b[1m829/829\u001b[0m \u001b[32m━━━━━━━━━━━━━━━━━━━━\u001b[0m\u001b[37m\u001b[0m \u001b[1m0s\u001b[0m 514us/step - MSE: 2.3851 - accuracy: 0.6673 - loss: 2.3851 - val_MSE: 1.5403 - val_accuracy: 0.6721 - val_loss: 1.5403\n",
      "Epoch 11/20\n",
      "\u001b[1m829/829\u001b[0m \u001b[32m━━━━━━━━━━━━━━━━━━━━\u001b[0m\u001b[37m\u001b[0m \u001b[1m1s\u001b[0m 719us/step - MSE: 1.3071 - accuracy: 0.6614 - loss: 1.3071 - val_MSE: 0.7720 - val_accuracy: 0.6713 - val_loss: 0.7720\n",
      "Epoch 12/20\n",
      "\u001b[1m829/829\u001b[0m \u001b[32m━━━━━━━━━━━━━━━━━━━━\u001b[0m\u001b[37m\u001b[0m \u001b[1m0s\u001b[0m 480us/step - MSE: 0.6428 - accuracy: 0.6616 - loss: 0.6428 - val_MSE: 0.3607 - val_accuracy: 0.6635 - val_loss: 0.3607\n",
      "Epoch 13/20\n",
      "\u001b[1m829/829\u001b[0m \u001b[32m━━━━━━━━━━━━━━━━━━━━\u001b[0m\u001b[37m\u001b[0m \u001b[1m0s\u001b[0m 541us/step - MSE: 0.2963 - accuracy: 0.6615 - loss: 0.2963 - val_MSE: 0.1683 - val_accuracy: 0.6716 - val_loss: 0.1683\n",
      "Epoch 14/20\n",
      "\u001b[1m829/829\u001b[0m \u001b[32m━━━━━━━━━━━━━━━━━━━━\u001b[0m\u001b[37m\u001b[0m \u001b[1m0s\u001b[0m 475us/step - MSE: 0.1429 - accuracy: 0.6770 - loss: 0.1429 - val_MSE: 0.0884 - val_accuracy: 0.6810 - val_loss: 0.0884\n",
      "Epoch 15/20\n",
      "\u001b[1m829/829\u001b[0m \u001b[32m━━━━━━━━━━━━━━━━━━━━\u001b[0m\u001b[37m\u001b[0m \u001b[1m0s\u001b[0m 496us/step - MSE: 0.0761 - accuracy: 0.6902 - loss: 0.0761 - val_MSE: 0.0554 - val_accuracy: 0.7065 - val_loss: 0.0554\n",
      "Epoch 16/20\n",
      "\u001b[1m829/829\u001b[0m \u001b[32m━━━━━━━━━━━━━━━━━━━━\u001b[0m\u001b[37m\u001b[0m \u001b[1m0s\u001b[0m 482us/step - MSE: 0.0428 - accuracy: 0.6974 - loss: 0.0428 - val_MSE: 0.0299 - val_accuracy: 0.6762 - val_loss: 0.0299\n",
      "Epoch 17/20\n",
      "\u001b[1m829/829\u001b[0m \u001b[32m━━━━━━━━━━━━━━━━━━━━\u001b[0m\u001b[37m\u001b[0m \u001b[1m0s\u001b[0m 492us/step - MSE: 0.0217 - accuracy: 0.6936 - loss: 0.0217 - val_MSE: 0.0113 - val_accuracy: 0.6947 - val_loss: 0.0113\n",
      "Epoch 18/20\n",
      "\u001b[1m829/829\u001b[0m \u001b[32m━━━━━━━━━━━━━━━━━━━━\u001b[0m\u001b[37m\u001b[0m \u001b[1m0s\u001b[0m 511us/step - MSE: 0.0138 - accuracy: 0.6861 - loss: 0.0138 - val_MSE: 0.0108 - val_accuracy: 0.6838 - val_loss: 0.0108\n",
      "Epoch 19/20\n",
      "\u001b[1m829/829\u001b[0m \u001b[32m━━━━━━━━━━━━━━━━━━━━\u001b[0m\u001b[37m\u001b[0m \u001b[1m0s\u001b[0m 537us/step - MSE: 0.0122 - accuracy: 0.6851 - loss: 0.0122 - val_MSE: 0.0206 - val_accuracy: 0.7037 - val_loss: 0.0206\n",
      "Epoch 20/20\n",
      "\u001b[1m829/829\u001b[0m \u001b[32m━━━━━━━━━━━━━━━━━━━━\u001b[0m\u001b[37m\u001b[0m \u001b[1m0s\u001b[0m 496us/step - MSE: 0.0135 - accuracy: 0.6879 - loss: 0.0135 - val_MSE: 0.0070 - val_accuracy: 0.6813 - val_loss: 0.0070\n"
     ]
    }
   ],
   "source": [
    "# For attempt 1\n",
    "# history = model1.fit([x_train, decoder_inputs_train], y_train,\n",
    "#                     epochs=EPOCHS, batch_size=BATCH_SIZE,\n",
    "#                     validation_data=([x_test, decoder_inputs_train], y_test))\n",
    "\n",
    "\n",
    "# For attempt 2\n",
    "# history = model2.fit(x_train, y_train,\n",
    "#                     epochs=EPOCHS, batch_size=BATCH_SIZE,\n",
    "#                     validation_data=(x_test, y_test))\n",
    "\n",
    "# For attempt 3\n",
    "history = model3.fit([x_train, y_train], y_train,\n",
    "                    epochs=EPOCHS, batch_size=BATCH_SIZE,\n",
    "                    validation_data=([x_test, y_test], y_test))"
   ]
  },
  {
   "cell_type": "markdown",
   "metadata": {},
   "source": [
    "# Model Evaluation"
   ]
  },
  {
   "cell_type": "code",
   "execution_count": 1184,
   "metadata": {},
   "outputs": [
    {
     "name": "stdout",
     "output_type": "stream",
     "text": [
      "\u001b[1m415/415\u001b[0m \u001b[32m━━━━━━━━━━━━━━━━━━━━\u001b[0m\u001b[37m\u001b[0m \u001b[1m0s\u001b[0m 337us/step - MSE: 417.4091 - accuracy: 0.6726 - loss: 417.4091\n"
     ]
    }
   ],
   "source": [
    "results = model3.evaluate([x_test, decoder_inputs_test], y_test, batch_size=128)"
   ]
  },
  {
   "cell_type": "markdown",
   "metadata": {},
   "source": [
    "# Plot Model"
   ]
  },
  {
   "cell_type": "code",
   "execution_count": 1185,
   "metadata": {},
   "outputs": [
    {
     "data": {
      "image/png": "[encoded data removed]",
      "text/plain": [
       "<IPython.core.display.Image object>"
      ]
     },
     "execution_count": 1185,
     "metadata": {},
     "output_type": "execute_result"
    }
   ],
   "source": [
    "tf.keras.utils.plot_model(model=model3,\n",
    "         show_shapes=True, to_file='./enc-dec.png')"
   ]
  },
  {
   "cell_type": "code",
   "execution_count": null,
   "metadata": {},
   "outputs": [],
   "source": []
  }
 ],
 "metadata": {
  "kernelspec": {
   "display_name": "Python 3",
   "language": "python",
   "name": "python3"
  },
  "language_info": {
   "codemirror_mode": {
    "name": "ipython",
    "version": 3
   },
   "file_extension": ".py",
   "mimetype": "text/x-python",
   "name": "python",
   "nbconvert_exporter": "python",
   "pygments_lexer": "ipython3",
   "version": "3.12.2"
  }
 },
 "nbformat": 4,
 "nbformat_minor": 2
}
