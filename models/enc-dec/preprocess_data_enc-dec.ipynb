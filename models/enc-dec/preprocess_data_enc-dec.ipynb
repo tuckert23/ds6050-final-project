{
 "cells": [
  {
   "cell_type": "markdown",
   "metadata": {},
   "source": [
    "# Introduction\n",
    "\n",
    "This model will serve as our first foray into time-series forecasting using LSTMs. We will be following [this tutorial](https://machinelearningmastery.com/multivariate-time-series-forecasting-lstms-keras/).\n",
    "\n",
    "The code will be broken into the following sections:\n",
    "\n",
    "```{raw}\n",
    "I. Data and Imports\n",
    "II. Data Processing\n",
    "    a. Cleaning data\n",
    "    b. Separating data into drives (drive_id)\n",
    "    c. Next-play feature\n",
    "    d. Save Data to .h5 file\n",
    "```"
   ]
  },
  {
   "cell_type": "markdown",
   "metadata": {},
   "source": [
    "# I. Data and Imports"
   ]
  },
  {
   "cell_type": "code",
   "execution_count": 1,
   "metadata": {},
   "outputs": [],
   "source": [
    "import numpy as np\n",
    "import tensorflow as tf\n",
    "import pandas as pd\n",
    "import h5py\n",
    "from matplotlib import pyplot as plt\n",
    "\n",
    "from tensorflow import keras\n",
    "from tensorflow.keras import layers\n",
    "from tensorflow.keras.models import Sequential\n",
    "\n",
    "from keras.preprocessing.sequence import pad_sequences\n",
    "\n",
    "from sklearn.model_selection import train_test_split"
   ]
  },
  {
   "cell_type": "code",
   "execution_count": 2,
   "metadata": {},
   "outputs": [],
   "source": [
    "MASK_VAL = -1.1     # Does not exist in data, so will be used"
   ]
  },
  {
   "cell_type": "code",
   "execution_count": 3,
   "metadata": {},
   "outputs": [
    {
     "name": "stderr",
     "output_type": "stream",
     "text": [
      "/var/folders/c7/1qq7lbrd6p50qcnbj7skxq4c0000gn/T/ipykernel_1342/1715701112.py:1: DtypeWarning: Columns (42,166,167,168,169,174,175,178,179,182,183,188,189,190,191,194,195,203,204,205,218,219,220,231,232,233,238,240,241,249) have mixed types. Specify dtype option on import or set low_memory=False.\n",
      "  data = pd.read_csv(\"../../data/NFL_Play_by_Play_2009-2018_(v5).csv\")\n"
     ]
    }
   ],
   "source": [
    "data = pd.read_csv(\"../../data/NFL_Play_by_Play_2009-2018_(v5).csv\")"
   ]
  },
  {
   "cell_type": "code",
   "execution_count": 4,
   "metadata": {},
   "outputs": [
    {
     "data": {
      "text/plain": [
       "['posteam',\n",
       " 'posteam_type',\n",
       " 'defteam',\n",
       " 'posteam_timeouts_remaining',\n",
       " 'defteam_timeouts_remaining',\n",
       " 'posteam_score',\n",
       " 'defteam_score',\n",
       " 'posteam_score_post',\n",
       " 'defteam_score_post',\n",
       " 'score_differential_post',\n",
       " 'def_wp',\n",
       " 'home_wp_post',\n",
       " 'away_wp_post',\n",
       " 'pass_defense_1_player_id',\n",
       " 'pass_defense_1_player_name',\n",
       " 'pass_defense_2_player_id',\n",
       " 'pass_defense_2_player_name',\n",
       " 'defensive_two_point_attempt',\n",
       " 'defensive_two_point_conv',\n",
       " 'defensive_extra_point_attempt',\n",
       " 'defensive_extra_point_conv']"
      ]
     },
     "execution_count": 4,
     "metadata": {},
     "output_type": "execute_result"
    }
   ],
   "source": [
    "# Exploratory feature extraction code\n",
    "[col for col in data.columns.to_list() if \"pos\" in col or \"def\" in col]"
   ]
  },
  {
   "cell_type": "markdown",
   "metadata": {},
   "source": [
    "# II. Data Processing"
   ]
  },
  {
   "cell_type": "markdown",
   "metadata": {},
   "source": [
    "## II.a Data Cleaning"
   ]
  },
  {
   "cell_type": "code",
   "execution_count": 5,
   "metadata": {},
   "outputs": [],
   "source": [
    "# Selecting only valid plays\n",
    "data = data[data['play_type'].notna()]"
   ]
  },
  {
   "cell_type": "code",
   "execution_count": 6,
   "metadata": {},
   "outputs": [],
   "source": [
    "# Dropping columns with too many missing values\n",
    "data = data.dropna(axis = 1, thresh=10000)"
   ]
  },
  {
   "cell_type": "code",
   "execution_count": 7,
   "metadata": {},
   "outputs": [],
   "source": [
    "# Selecting only useful columns\n",
    "useful_columns = ['game_id', 'yardline_100', 'quarter_seconds_remaining', 'half_seconds_remaining', \n",
    "                  'game_seconds_remaining', 'quarter_end', 'drive', 'sp', 'qtr', 'down', 'goal_to_go', \n",
    "                  'ydstogo', 'ydsnet', 'yards_gained', 'shotgun', 'no_huddle', 'home_timeouts_remaining', \n",
    "                  'defteam_timeouts_remaining','defteam_score','away_timeouts_remaining', \n",
    "                  'timeout', 'defteam_timeouts_remaining', 'total_home_score',  \n",
    "                  'posteam_timeouts_remaining', 'posteam_score', 'total_away_score', 'defteam_score',\n",
    "                  'score_differential', 'defteam_score_post',  'score_differential_post', 'touchdown', 'play_type']\n",
    "data = data[useful_columns]"
   ]
  },
  {
   "cell_type": "code",
   "execution_count": 8,
   "metadata": {},
   "outputs": [
    {
     "name": "stdout",
     "output_type": "stream",
     "text": [
      "\\item \\texttt{game\\_id}\n",
      "\\item \\texttt{yardline\\_100}\n",
      "\\item \\texttt{quarter\\_seconds\\_remaining}\n",
      "\\item \\texttt{half\\_seconds\\_remaining}\n",
      "\\item \\texttt{game\\_seconds\\_remaining}\n",
      "\\item \\texttt{quarter\\_end}\n",
      "\\item \\texttt{drive}\n",
      "\\item \\texttt{sp}\n",
      "\\item \\texttt{qtr}\n",
      "\\item \\texttt{down}\n",
      "\\item \\texttt{goal\\_to\\_go}\n",
      "\\item \\texttt{ydstogo}\n",
      "\\item \\texttt{ydsnet}\n",
      "\\item \\texttt{yards\\_gained}\n",
      "\\item \\texttt{shotgun}\n",
      "\\item \\texttt{no\\_huddle}\n",
      "\\item \\texttt{home\\_timeouts\\_remaining}\n",
      "\\item \\texttt{defteam\\_timeouts\\_remaining}\n",
      "\\item \\texttt{defteam\\_score}\n",
      "\\item \\texttt{away\\_timeouts\\_remaining}\n",
      "\\item \\texttt{timeout}\n",
      "\\item \\texttt{defteam\\_timeouts\\_remaining}\n",
      "\\item \\texttt{total\\_home\\_score}\n",
      "\\item \\texttt{posteam\\_timeouts\\_remaining}\n",
      "\\item \\texttt{posteam\\_score}\n",
      "\\item \\texttt{total\\_away\\_score}\n",
      "\\item \\texttt{defteam\\_score}\n",
      "\\item \\texttt{score\\_differential}\n",
      "\\item \\texttt{defteam\\_score\\_post}\n",
      "\\item \\texttt{score\\_differential\\_post}\n",
      "\\item \\texttt{touchdown}\n",
      "\\item \\texttt{play\\_type}\n"
     ]
    }
   ],
   "source": [
    "# For LaTeX formatting\n",
    "for col in useful_columns:\n",
    "    print(r\"\\item \" + r\"\\texttt{\" + col.replace(\"_\", r\"\\_\") + \"}\")\n",
    "    # print(r\"\\item \" + f\"\\texttt{col.replace(\"_\", r\"\\_\")}\")"
   ]
  },
  {
   "cell_type": "code",
   "execution_count": 9,
   "metadata": {},
   "outputs": [],
   "source": [
    "def classify_play_type(x):\n",
    "    if x == \"kickoff\" or x == \"punt\" or x == \"field_goal\" or x == \"extra_point\":\n",
    "        return 0    # Special Teams\n",
    "    elif x == \"pass\" or x == \"qb_spike\":\n",
    "        return 1    # pass\n",
    "    elif x == \"run\" or x == \"qb_kneel\":\n",
    "        return 2    # run\n",
    "    else:\n",
    "        return 3    # no play\n",
    "    \n",
    "# Classifying play type\n",
    "data[\"play_type\"] = data[\"play_type\"].apply(classify_play_type)"
   ]
  },
  {
   "cell_type": "code",
   "execution_count": 10,
   "metadata": {},
   "outputs": [
    {
     "data": {
      "text/html": [
       "<div>\n",
       "<style scoped>\n",
       "    .dataframe tbody tr th:only-of-type {\n",
       "        vertical-align: middle;\n",
       "    }\n",
       "\n",
       "    .dataframe tbody tr th {\n",
       "        vertical-align: top;\n",
       "    }\n",
       "\n",
       "    .dataframe thead th {\n",
       "        text-align: right;\n",
       "    }\n",
       "</style>\n",
       "<table border=\"1\" class=\"dataframe\">\n",
       "  <thead>\n",
       "    <tr style=\"text-align: right;\">\n",
       "      <th></th>\n",
       "      <th>game_id</th>\n",
       "      <th>yardline_100</th>\n",
       "      <th>quarter_seconds_remaining</th>\n",
       "      <th>half_seconds_remaining</th>\n",
       "      <th>game_seconds_remaining</th>\n",
       "      <th>quarter_end</th>\n",
       "      <th>drive</th>\n",
       "      <th>sp</th>\n",
       "      <th>qtr</th>\n",
       "      <th>down</th>\n",
       "      <th>...</th>\n",
       "      <th>total_home_score</th>\n",
       "      <th>posteam_timeouts_remaining</th>\n",
       "      <th>posteam_score</th>\n",
       "      <th>total_away_score</th>\n",
       "      <th>defteam_score</th>\n",
       "      <th>score_differential</th>\n",
       "      <th>defteam_score_post</th>\n",
       "      <th>score_differential_post</th>\n",
       "      <th>touchdown</th>\n",
       "      <th>play_type</th>\n",
       "    </tr>\n",
       "  </thead>\n",
       "  <tbody>\n",
       "    <tr>\n",
       "      <th>0</th>\n",
       "      <td>2009091000</td>\n",
       "      <td>30.0</td>\n",
       "      <td>900.0</td>\n",
       "      <td>1800.0</td>\n",
       "      <td>3600.0</td>\n",
       "      <td>0</td>\n",
       "      <td>1</td>\n",
       "      <td>0</td>\n",
       "      <td>1</td>\n",
       "      <td>NaN</td>\n",
       "      <td>...</td>\n",
       "      <td>0</td>\n",
       "      <td>3.0</td>\n",
       "      <td>NaN</td>\n",
       "      <td>0</td>\n",
       "      <td>NaN</td>\n",
       "      <td>NaN</td>\n",
       "      <td>0.0</td>\n",
       "      <td>0.0</td>\n",
       "      <td>0.0</td>\n",
       "      <td>0</td>\n",
       "    </tr>\n",
       "    <tr>\n",
       "      <th>1</th>\n",
       "      <td>2009091000</td>\n",
       "      <td>58.0</td>\n",
       "      <td>893.0</td>\n",
       "      <td>1793.0</td>\n",
       "      <td>3593.0</td>\n",
       "      <td>0</td>\n",
       "      <td>1</td>\n",
       "      <td>0</td>\n",
       "      <td>1</td>\n",
       "      <td>1.0</td>\n",
       "      <td>...</td>\n",
       "      <td>0</td>\n",
       "      <td>3.0</td>\n",
       "      <td>0.0</td>\n",
       "      <td>0</td>\n",
       "      <td>0.0</td>\n",
       "      <td>0.0</td>\n",
       "      <td>0.0</td>\n",
       "      <td>0.0</td>\n",
       "      <td>0.0</td>\n",
       "      <td>1</td>\n",
       "    </tr>\n",
       "    <tr>\n",
       "      <th>2</th>\n",
       "      <td>2009091000</td>\n",
       "      <td>53.0</td>\n",
       "      <td>856.0</td>\n",
       "      <td>1756.0</td>\n",
       "      <td>3556.0</td>\n",
       "      <td>0</td>\n",
       "      <td>1</td>\n",
       "      <td>0</td>\n",
       "      <td>1</td>\n",
       "      <td>2.0</td>\n",
       "      <td>...</td>\n",
       "      <td>0</td>\n",
       "      <td>3.0</td>\n",
       "      <td>0.0</td>\n",
       "      <td>0</td>\n",
       "      <td>0.0</td>\n",
       "      <td>0.0</td>\n",
       "      <td>0.0</td>\n",
       "      <td>0.0</td>\n",
       "      <td>0.0</td>\n",
       "      <td>2</td>\n",
       "    </tr>\n",
       "    <tr>\n",
       "      <th>3</th>\n",
       "      <td>2009091000</td>\n",
       "      <td>56.0</td>\n",
       "      <td>815.0</td>\n",
       "      <td>1715.0</td>\n",
       "      <td>3515.0</td>\n",
       "      <td>0</td>\n",
       "      <td>1</td>\n",
       "      <td>0</td>\n",
       "      <td>1</td>\n",
       "      <td>3.0</td>\n",
       "      <td>...</td>\n",
       "      <td>0</td>\n",
       "      <td>3.0</td>\n",
       "      <td>0.0</td>\n",
       "      <td>0</td>\n",
       "      <td>0.0</td>\n",
       "      <td>0.0</td>\n",
       "      <td>0.0</td>\n",
       "      <td>0.0</td>\n",
       "      <td>0.0</td>\n",
       "      <td>1</td>\n",
       "    </tr>\n",
       "    <tr>\n",
       "      <th>4</th>\n",
       "      <td>2009091000</td>\n",
       "      <td>56.0</td>\n",
       "      <td>807.0</td>\n",
       "      <td>1707.0</td>\n",
       "      <td>3507.0</td>\n",
       "      <td>0</td>\n",
       "      <td>1</td>\n",
       "      <td>0</td>\n",
       "      <td>1</td>\n",
       "      <td>4.0</td>\n",
       "      <td>...</td>\n",
       "      <td>0</td>\n",
       "      <td>3.0</td>\n",
       "      <td>0.0</td>\n",
       "      <td>0</td>\n",
       "      <td>0.0</td>\n",
       "      <td>0.0</td>\n",
       "      <td>0.0</td>\n",
       "      <td>0.0</td>\n",
       "      <td>0.0</td>\n",
       "      <td>0</td>\n",
       "    </tr>\n",
       "    <tr>\n",
       "      <th>5</th>\n",
       "      <td>2009091000</td>\n",
       "      <td>98.0</td>\n",
       "      <td>796.0</td>\n",
       "      <td>1696.0</td>\n",
       "      <td>3496.0</td>\n",
       "      <td>0</td>\n",
       "      <td>2</td>\n",
       "      <td>0</td>\n",
       "      <td>1</td>\n",
       "      <td>1.0</td>\n",
       "      <td>...</td>\n",
       "      <td>0</td>\n",
       "      <td>3.0</td>\n",
       "      <td>0.0</td>\n",
       "      <td>0</td>\n",
       "      <td>0.0</td>\n",
       "      <td>0.0</td>\n",
       "      <td>0.0</td>\n",
       "      <td>0.0</td>\n",
       "      <td>0.0</td>\n",
       "      <td>2</td>\n",
       "    </tr>\n",
       "    <tr>\n",
       "      <th>6</th>\n",
       "      <td>2009091000</td>\n",
       "      <td>98.0</td>\n",
       "      <td>760.0</td>\n",
       "      <td>1660.0</td>\n",
       "      <td>3460.0</td>\n",
       "      <td>0</td>\n",
       "      <td>2</td>\n",
       "      <td>0</td>\n",
       "      <td>1</td>\n",
       "      <td>2.0</td>\n",
       "      <td>...</td>\n",
       "      <td>0</td>\n",
       "      <td>3.0</td>\n",
       "      <td>0.0</td>\n",
       "      <td>0</td>\n",
       "      <td>0.0</td>\n",
       "      <td>0.0</td>\n",
       "      <td>0.0</td>\n",
       "      <td>0.0</td>\n",
       "      <td>0.0</td>\n",
       "      <td>1</td>\n",
       "    </tr>\n",
       "    <tr>\n",
       "      <th>7</th>\n",
       "      <td>2009091000</td>\n",
       "      <td>94.0</td>\n",
       "      <td>731.0</td>\n",
       "      <td>1631.0</td>\n",
       "      <td>3431.0</td>\n",
       "      <td>0</td>\n",
       "      <td>2</td>\n",
       "      <td>0</td>\n",
       "      <td>1</td>\n",
       "      <td>3.0</td>\n",
       "      <td>...</td>\n",
       "      <td>0</td>\n",
       "      <td>3.0</td>\n",
       "      <td>0.0</td>\n",
       "      <td>0</td>\n",
       "      <td>0.0</td>\n",
       "      <td>0.0</td>\n",
       "      <td>0.0</td>\n",
       "      <td>0.0</td>\n",
       "      <td>0.0</td>\n",
       "      <td>2</td>\n",
       "    </tr>\n",
       "    <tr>\n",
       "      <th>8</th>\n",
       "      <td>2009091000</td>\n",
       "      <td>96.0</td>\n",
       "      <td>694.0</td>\n",
       "      <td>1594.0</td>\n",
       "      <td>3394.0</td>\n",
       "      <td>0</td>\n",
       "      <td>2</td>\n",
       "      <td>0</td>\n",
       "      <td>1</td>\n",
       "      <td>4.0</td>\n",
       "      <td>...</td>\n",
       "      <td>0</td>\n",
       "      <td>3.0</td>\n",
       "      <td>0.0</td>\n",
       "      <td>0</td>\n",
       "      <td>0.0</td>\n",
       "      <td>0.0</td>\n",
       "      <td>0.0</td>\n",
       "      <td>0.0</td>\n",
       "      <td>0.0</td>\n",
       "      <td>0</td>\n",
       "    </tr>\n",
       "    <tr>\n",
       "      <th>9</th>\n",
       "      <td>2009091000</td>\n",
       "      <td>43.0</td>\n",
       "      <td>684.0</td>\n",
       "      <td>1584.0</td>\n",
       "      <td>3384.0</td>\n",
       "      <td>0</td>\n",
       "      <td>3</td>\n",
       "      <td>0</td>\n",
       "      <td>1</td>\n",
       "      <td>1.0</td>\n",
       "      <td>...</td>\n",
       "      <td>0</td>\n",
       "      <td>3.0</td>\n",
       "      <td>0.0</td>\n",
       "      <td>0</td>\n",
       "      <td>0.0</td>\n",
       "      <td>0.0</td>\n",
       "      <td>0.0</td>\n",
       "      <td>0.0</td>\n",
       "      <td>0.0</td>\n",
       "      <td>1</td>\n",
       "    </tr>\n",
       "  </tbody>\n",
       "</table>\n",
       "<p>10 rows × 32 columns</p>\n",
       "</div>"
      ],
      "text/plain": [
       "      game_id  yardline_100  quarter_seconds_remaining  \\\n",
       "0  2009091000          30.0                      900.0   \n",
       "1  2009091000          58.0                      893.0   \n",
       "2  2009091000          53.0                      856.0   \n",
       "3  2009091000          56.0                      815.0   \n",
       "4  2009091000          56.0                      807.0   \n",
       "5  2009091000          98.0                      796.0   \n",
       "6  2009091000          98.0                      760.0   \n",
       "7  2009091000          94.0                      731.0   \n",
       "8  2009091000          96.0                      694.0   \n",
       "9  2009091000          43.0                      684.0   \n",
       "\n",
       "   half_seconds_remaining  game_seconds_remaining  quarter_end  drive  sp  \\\n",
       "0                  1800.0                  3600.0            0      1   0   \n",
       "1                  1793.0                  3593.0            0      1   0   \n",
       "2                  1756.0                  3556.0            0      1   0   \n",
       "3                  1715.0                  3515.0            0      1   0   \n",
       "4                  1707.0                  3507.0            0      1   0   \n",
       "5                  1696.0                  3496.0            0      2   0   \n",
       "6                  1660.0                  3460.0            0      2   0   \n",
       "7                  1631.0                  3431.0            0      2   0   \n",
       "8                  1594.0                  3394.0            0      2   0   \n",
       "9                  1584.0                  3384.0            0      3   0   \n",
       "\n",
       "   qtr  down  ...  total_home_score  posteam_timeouts_remaining  \\\n",
       "0    1   NaN  ...                 0                         3.0   \n",
       "1    1   1.0  ...                 0                         3.0   \n",
       "2    1   2.0  ...                 0                         3.0   \n",
       "3    1   3.0  ...                 0                         3.0   \n",
       "4    1   4.0  ...                 0                         3.0   \n",
       "5    1   1.0  ...                 0                         3.0   \n",
       "6    1   2.0  ...                 0                         3.0   \n",
       "7    1   3.0  ...                 0                         3.0   \n",
       "8    1   4.0  ...                 0                         3.0   \n",
       "9    1   1.0  ...                 0                         3.0   \n",
       "\n",
       "   posteam_score  total_away_score  defteam_score  score_differential  \\\n",
       "0            NaN                 0            NaN                 NaN   \n",
       "1            0.0                 0            0.0                 0.0   \n",
       "2            0.0                 0            0.0                 0.0   \n",
       "3            0.0                 0            0.0                 0.0   \n",
       "4            0.0                 0            0.0                 0.0   \n",
       "5            0.0                 0            0.0                 0.0   \n",
       "6            0.0                 0            0.0                 0.0   \n",
       "7            0.0                 0            0.0                 0.0   \n",
       "8            0.0                 0            0.0                 0.0   \n",
       "9            0.0                 0            0.0                 0.0   \n",
       "\n",
       "   defteam_score_post  score_differential_post  touchdown  play_type  \n",
       "0                 0.0                      0.0        0.0          0  \n",
       "1                 0.0                      0.0        0.0          1  \n",
       "2                 0.0                      0.0        0.0          2  \n",
       "3                 0.0                      0.0        0.0          1  \n",
       "4                 0.0                      0.0        0.0          0  \n",
       "5                 0.0                      0.0        0.0          2  \n",
       "6                 0.0                      0.0        0.0          1  \n",
       "7                 0.0                      0.0        0.0          2  \n",
       "8                 0.0                      0.0        0.0          0  \n",
       "9                 0.0                      0.0        0.0          1  \n",
       "\n",
       "[10 rows x 32 columns]"
      ]
     },
     "execution_count": 10,
     "metadata": {},
     "output_type": "execute_result"
    }
   ],
   "source": [
    "data.head(10)"
   ]
  },
  {
   "cell_type": "code",
   "execution_count": 11,
   "metadata": {},
   "outputs": [
    {
     "data": {
      "text/plain": [
       "game_id                           0\n",
       "yardline_100                    368\n",
       "quarter_seconds_remaining         1\n",
       "half_seconds_remaining           25\n",
       "game_seconds_remaining           23\n",
       "quarter_end                       0\n",
       "drive                             0\n",
       "sp                                0\n",
       "qtr                               0\n",
       "down                          55563\n",
       "goal_to_go                        5\n",
       "ydstogo                           0\n",
       "ydsnet                            0\n",
       "yards_gained                    213\n",
       "shotgun                           0\n",
       "no_huddle                         0\n",
       "home_timeouts_remaining           0\n",
       "defteam_timeouts_remaining        5\n",
       "defteam_score                  2545\n",
       "away_timeouts_remaining           0\n",
       "timeout                           0\n",
       "defteam_timeouts_remaining        5\n",
       "total_home_score                  0\n",
       "posteam_timeouts_remaining        5\n",
       "posteam_score                  2545\n",
       "total_away_score                  0\n",
       "defteam_score                  2545\n",
       "score_differential             2545\n",
       "defteam_score_post                5\n",
       "score_differential_post           5\n",
       "touchdown                         0\n",
       "play_type                         0\n",
       "dtype: int64"
      ]
     },
     "execution_count": 11,
     "metadata": {},
     "output_type": "execute_result"
    }
   ],
   "source": [
    "# Checking missing values\n",
    "data.isna().sum()"
   ]
  },
  {
   "cell_type": "code",
   "execution_count": 12,
   "metadata": {},
   "outputs": [],
   "source": [
    "# Down missing is likely due to undowned plays, such as kickoff, extra point, etc.\n",
    "data = data[~data[\"down\"].isna()]"
   ]
  },
  {
   "cell_type": "code",
   "execution_count": 13,
   "metadata": {},
   "outputs": [
    {
     "data": {
      "text/plain": [
       "game_id                         0\n",
       "yardline_100                    0\n",
       "quarter_seconds_remaining       0\n",
       "half_seconds_remaining         19\n",
       "game_seconds_remaining         20\n",
       "quarter_end                     0\n",
       "drive                           0\n",
       "sp                              0\n",
       "qtr                             0\n",
       "down                            0\n",
       "goal_to_go                      0\n",
       "ydstogo                         0\n",
       "ydsnet                          0\n",
       "yards_gained                  213\n",
       "shotgun                         0\n",
       "no_huddle                       0\n",
       "home_timeouts_remaining         0\n",
       "defteam_timeouts_remaining      0\n",
       "defteam_score                   0\n",
       "away_timeouts_remaining         0\n",
       "timeout                         0\n",
       "defteam_timeouts_remaining      0\n",
       "total_home_score                0\n",
       "posteam_timeouts_remaining      0\n",
       "posteam_score                   0\n",
       "total_away_score                0\n",
       "defteam_score                   0\n",
       "score_differential              0\n",
       "defteam_score_post              0\n",
       "score_differential_post         0\n",
       "touchdown                       0\n",
       "play_type                       0\n",
       "dtype: int64"
      ]
     },
     "execution_count": 13,
     "metadata": {},
     "output_type": "execute_result"
    }
   ],
   "source": [
    "# Rechecking missing values\n",
    "data.isna().sum()"
   ]
  },
  {
   "cell_type": "code",
   "execution_count": 14,
   "metadata": {},
   "outputs": [
    {
     "data": {
      "text/plain": [
       "(380692, 32)"
      ]
     },
     "execution_count": 14,
     "metadata": {},
     "output_type": "execute_result"
    }
   ],
   "source": [
    "# There arent many, so dropping remaining\n",
    "data = data.dropna()\n",
    "data.shape"
   ]
  },
  {
   "cell_type": "markdown",
   "metadata": {},
   "source": [
    "## II.b. Separating data by drive"
   ]
  },
  {
   "cell_type": "code",
   "execution_count": 15,
   "metadata": {},
   "outputs": [],
   "source": [
    "# Creating a unique drive id\n",
    "data[\"game_id_str\"] = data[\"game_id\"].astype(\"str\")\n",
    "data[\"drive_str\"] = data[\"drive\"].astype('str')\n",
    "\n",
    "data[\"drive_id\"] = data[\"game_id_str\"].str.cat(data[\"drive_str\"])"
   ]
  },
  {
   "cell_type": "code",
   "execution_count": 16,
   "metadata": {},
   "outputs": [],
   "source": [
    "# Dropping temporary columns I created\n",
    "data = data.drop([\"game_id\", \"game_id_str\", \"drive_str\"],axis=1)"
   ]
  },
  {
   "cell_type": "code",
   "execution_count": 17,
   "metadata": {},
   "outputs": [],
   "source": [
    "# Reordering columns\n",
    "col_order = [\"drive_id\"] + list(data.columns)[:-1]\n",
    "data = data[col_order]"
   ]
  },
  {
   "cell_type": "code",
   "execution_count": 18,
   "metadata": {},
   "outputs": [
    {
     "data": {
      "text/html": [
       "<div>\n",
       "<style scoped>\n",
       "    .dataframe tbody tr th:only-of-type {\n",
       "        vertical-align: middle;\n",
       "    }\n",
       "\n",
       "    .dataframe tbody tr th {\n",
       "        vertical-align: top;\n",
       "    }\n",
       "\n",
       "    .dataframe thead th {\n",
       "        text-align: right;\n",
       "    }\n",
       "</style>\n",
       "<table border=\"1\" class=\"dataframe\">\n",
       "  <thead>\n",
       "    <tr style=\"text-align: right;\">\n",
       "      <th></th>\n",
       "      <th>drive_id</th>\n",
       "      <th>yardline_100</th>\n",
       "      <th>quarter_seconds_remaining</th>\n",
       "      <th>half_seconds_remaining</th>\n",
       "      <th>game_seconds_remaining</th>\n",
       "      <th>quarter_end</th>\n",
       "      <th>drive</th>\n",
       "      <th>sp</th>\n",
       "      <th>qtr</th>\n",
       "      <th>down</th>\n",
       "      <th>...</th>\n",
       "      <th>posteam_timeouts_remaining</th>\n",
       "      <th>posteam_score</th>\n",
       "      <th>total_away_score</th>\n",
       "      <th>defteam_score</th>\n",
       "      <th>defteam_score</th>\n",
       "      <th>score_differential</th>\n",
       "      <th>defteam_score_post</th>\n",
       "      <th>score_differential_post</th>\n",
       "      <th>touchdown</th>\n",
       "      <th>play_type</th>\n",
       "    </tr>\n",
       "  </thead>\n",
       "  <tbody>\n",
       "    <tr>\n",
       "      <th>1</th>\n",
       "      <td>20090910001</td>\n",
       "      <td>58.0</td>\n",
       "      <td>893.0</td>\n",
       "      <td>1793.0</td>\n",
       "      <td>3593.0</td>\n",
       "      <td>0</td>\n",
       "      <td>1</td>\n",
       "      <td>0</td>\n",
       "      <td>1</td>\n",
       "      <td>1.0</td>\n",
       "      <td>...</td>\n",
       "      <td>3.0</td>\n",
       "      <td>0.0</td>\n",
       "      <td>0</td>\n",
       "      <td>0.0</td>\n",
       "      <td>0.0</td>\n",
       "      <td>0.0</td>\n",
       "      <td>0.0</td>\n",
       "      <td>0.0</td>\n",
       "      <td>0.0</td>\n",
       "      <td>1</td>\n",
       "    </tr>\n",
       "    <tr>\n",
       "      <th>2</th>\n",
       "      <td>20090910001</td>\n",
       "      <td>53.0</td>\n",
       "      <td>856.0</td>\n",
       "      <td>1756.0</td>\n",
       "      <td>3556.0</td>\n",
       "      <td>0</td>\n",
       "      <td>1</td>\n",
       "      <td>0</td>\n",
       "      <td>1</td>\n",
       "      <td>2.0</td>\n",
       "      <td>...</td>\n",
       "      <td>3.0</td>\n",
       "      <td>0.0</td>\n",
       "      <td>0</td>\n",
       "      <td>0.0</td>\n",
       "      <td>0.0</td>\n",
       "      <td>0.0</td>\n",
       "      <td>0.0</td>\n",
       "      <td>0.0</td>\n",
       "      <td>0.0</td>\n",
       "      <td>2</td>\n",
       "    </tr>\n",
       "    <tr>\n",
       "      <th>3</th>\n",
       "      <td>20090910001</td>\n",
       "      <td>56.0</td>\n",
       "      <td>815.0</td>\n",
       "      <td>1715.0</td>\n",
       "      <td>3515.0</td>\n",
       "      <td>0</td>\n",
       "      <td>1</td>\n",
       "      <td>0</td>\n",
       "      <td>1</td>\n",
       "      <td>3.0</td>\n",
       "      <td>...</td>\n",
       "      <td>3.0</td>\n",
       "      <td>0.0</td>\n",
       "      <td>0</td>\n",
       "      <td>0.0</td>\n",
       "      <td>0.0</td>\n",
       "      <td>0.0</td>\n",
       "      <td>0.0</td>\n",
       "      <td>0.0</td>\n",
       "      <td>0.0</td>\n",
       "      <td>1</td>\n",
       "    </tr>\n",
       "    <tr>\n",
       "      <th>4</th>\n",
       "      <td>20090910001</td>\n",
       "      <td>56.0</td>\n",
       "      <td>807.0</td>\n",
       "      <td>1707.0</td>\n",
       "      <td>3507.0</td>\n",
       "      <td>0</td>\n",
       "      <td>1</td>\n",
       "      <td>0</td>\n",
       "      <td>1</td>\n",
       "      <td>4.0</td>\n",
       "      <td>...</td>\n",
       "      <td>3.0</td>\n",
       "      <td>0.0</td>\n",
       "      <td>0</td>\n",
       "      <td>0.0</td>\n",
       "      <td>0.0</td>\n",
       "      <td>0.0</td>\n",
       "      <td>0.0</td>\n",
       "      <td>0.0</td>\n",
       "      <td>0.0</td>\n",
       "      <td>0</td>\n",
       "    </tr>\n",
       "    <tr>\n",
       "      <th>5</th>\n",
       "      <td>20090910002</td>\n",
       "      <td>98.0</td>\n",
       "      <td>796.0</td>\n",
       "      <td>1696.0</td>\n",
       "      <td>3496.0</td>\n",
       "      <td>0</td>\n",
       "      <td>2</td>\n",
       "      <td>0</td>\n",
       "      <td>1</td>\n",
       "      <td>1.0</td>\n",
       "      <td>...</td>\n",
       "      <td>3.0</td>\n",
       "      <td>0.0</td>\n",
       "      <td>0</td>\n",
       "      <td>0.0</td>\n",
       "      <td>0.0</td>\n",
       "      <td>0.0</td>\n",
       "      <td>0.0</td>\n",
       "      <td>0.0</td>\n",
       "      <td>0.0</td>\n",
       "      <td>2</td>\n",
       "    </tr>\n",
       "  </tbody>\n",
       "</table>\n",
       "<p>5 rows × 36 columns</p>\n",
       "</div>"
      ],
      "text/plain": [
       "      drive_id  yardline_100  quarter_seconds_remaining  \\\n",
       "1  20090910001          58.0                      893.0   \n",
       "2  20090910001          53.0                      856.0   \n",
       "3  20090910001          56.0                      815.0   \n",
       "4  20090910001          56.0                      807.0   \n",
       "5  20090910002          98.0                      796.0   \n",
       "\n",
       "   half_seconds_remaining  game_seconds_remaining  quarter_end  drive  sp  \\\n",
       "1                  1793.0                  3593.0            0      1   0   \n",
       "2                  1756.0                  3556.0            0      1   0   \n",
       "3                  1715.0                  3515.0            0      1   0   \n",
       "4                  1707.0                  3507.0            0      1   0   \n",
       "5                  1696.0                  3496.0            0      2   0   \n",
       "\n",
       "   qtr  down  ...  posteam_timeouts_remaining  posteam_score  \\\n",
       "1    1   1.0  ...                         3.0            0.0   \n",
       "2    1   2.0  ...                         3.0            0.0   \n",
       "3    1   3.0  ...                         3.0            0.0   \n",
       "4    1   4.0  ...                         3.0            0.0   \n",
       "5    1   1.0  ...                         3.0            0.0   \n",
       "\n",
       "   total_away_score  defteam_score  defteam_score  score_differential  \\\n",
       "1                 0            0.0            0.0                 0.0   \n",
       "2                 0            0.0            0.0                 0.0   \n",
       "3                 0            0.0            0.0                 0.0   \n",
       "4                 0            0.0            0.0                 0.0   \n",
       "5                 0            0.0            0.0                 0.0   \n",
       "\n",
       "   defteam_score_post  score_differential_post  touchdown  play_type  \n",
       "1                 0.0                      0.0        0.0          1  \n",
       "2                 0.0                      0.0        0.0          2  \n",
       "3                 0.0                      0.0        0.0          1  \n",
       "4                 0.0                      0.0        0.0          0  \n",
       "5                 0.0                      0.0        0.0          2  \n",
       "\n",
       "[5 rows x 36 columns]"
      ]
     },
     "execution_count": 18,
     "metadata": {},
     "output_type": "execute_result"
    }
   ],
   "source": [
    "data.head()"
   ]
  },
  {
   "cell_type": "code",
   "execution_count": 19,
   "metadata": {},
   "outputs": [
    {
     "data": {
      "text/plain": [
       "0"
      ]
     },
     "execution_count": 19,
     "metadata": {},
     "output_type": "execute_result"
    }
   ],
   "source": [
    "# Checking for a good masking value\n",
    "data[data == MASK_VAL].count().sum()"
   ]
  },
  {
   "cell_type": "code",
   "execution_count": 20,
   "metadata": {},
   "outputs": [
    {
     "data": {
      "text/plain": [
       "['20090910001', '20090910002', '20090910003', '20090910004', '20090910005']"
      ]
     },
     "execution_count": 20,
     "metadata": {},
     "output_type": "execute_result"
    }
   ],
   "source": [
    "# Checking drive_ids\n",
    "ids = list(data[\"drive_id\"].unique())\n",
    "ids[:5]"
   ]
  },
  {
   "cell_type": "code",
   "execution_count": 21,
   "metadata": {},
   "outputs": [
    {
     "data": {
      "text/plain": [
       "58729"
      ]
     },
     "execution_count": 21,
     "metadata": {},
     "output_type": "execute_result"
    }
   ],
   "source": [
    "# Number of drives\n",
    "len(ids)"
   ]
  },
  {
   "cell_type": "code",
   "execution_count": 22,
   "metadata": {},
   "outputs": [
    {
     "data": {
      "text/plain": [
       "(380692, 36)"
      ]
     },
     "execution_count": 22,
     "metadata": {},
     "output_type": "execute_result"
    }
   ],
   "source": [
    "# Checking shape\n",
    "data.shape"
   ]
  },
  {
   "cell_type": "code",
   "execution_count": 23,
   "metadata": {},
   "outputs": [],
   "source": [
    "MAX_DRIVES = 21     # There are only 54 plays with drive lengths greater than 21, so we will simply eliminate those. We will also eliminate 1 play drives since they always result in a turnover.\n",
    "\n",
    "x = []\n",
    "y = []\n",
    "\n",
    "# Iterate through each drive_id\n",
    "for _, drive_frame in data.groupby(\"drive_id\"):\n",
    "\n",
    "    # Drop the drive_id column\n",
    "    drive_frame = drive_frame.drop(\"drive_id\", axis=1).to_numpy()\n",
    "\n",
    "    # If the number of plays in the drive is between 2 and 21\n",
    "    if drive_frame.shape[0] > 1 and drive_frame.shape[0] <= MAX_DRIVES:  # Limit drives to 21 (longest drive)\n",
    "\n",
    "        # Iteratively add chunks of the plays, so that P0, ..., P_i-1 goes to x and P_i goes to y\n",
    "        # Changed start index to 2 to ensure meaningful decoder input\n",
    "        for i in range(2, drive_frame.shape[0]):        \n",
    "            x.append(drive_frame[:i, :])\n",
    "            y.append(drive_frame[i, :])\n"
   ]
  },
  {
   "cell_type": "markdown",
   "metadata": {},
   "source": [
    "### II.b.i Buffer Data"
   ]
  },
  {
   "cell_type": "code",
   "execution_count": 24,
   "metadata": {},
   "outputs": [],
   "source": [
    "x_padded = pad_sequences(x, maxlen=MAX_DRIVES, dtype=\"float32\", value=MASK_VAL)"
   ]
  },
  {
   "cell_type": "markdown",
   "metadata": {},
   "source": [
    "## II.d Saving Data"
   ]
  },
  {
   "cell_type": "code",
   "execution_count": 25,
   "metadata": {},
   "outputs": [],
   "source": [
    "# Save data to an HDF5 file\n",
    "with h5py.File('enc_dec_preprocessed_data.h5', 'w') as hf:\n",
    "    hf.create_dataset('X', data=x_padded)\n",
    "    hf.create_dataset('y', data=y)"
   ]
  },
  {
   "cell_type": "markdown",
   "metadata": {},
   "source": [
    "### Examining Data"
   ]
  },
  {
   "cell_type": "code",
   "execution_count": 26,
   "metadata": {},
   "outputs": [
    {
     "data": {
      "text/plain": [
       "array([[ 5.800e+01,  8.930e+02,  1.793e+03,  3.593e+03,  0.000e+00,\n",
       "         1.000e+00,  0.000e+00,  1.000e+00,  1.000e+00,  0.000e+00,\n",
       "         1.000e+01,  5.000e+00,  5.000e+00,  0.000e+00,  0.000e+00,\n",
       "         3.000e+00,  3.000e+00,  3.000e+00,  0.000e+00,  0.000e+00,\n",
       "         3.000e+00,  0.000e+00,  3.000e+00,  3.000e+00,  0.000e+00,\n",
       "         3.000e+00,  0.000e+00,  0.000e+00,  0.000e+00,  0.000e+00,\n",
       "         0.000e+00,  0.000e+00,  0.000e+00,  0.000e+00,  1.000e+00],\n",
       "       [ 5.300e+01,  8.560e+02,  1.756e+03,  3.556e+03,  0.000e+00,\n",
       "         1.000e+00,  0.000e+00,  1.000e+00,  2.000e+00,  0.000e+00,\n",
       "         5.000e+00,  2.000e+00, -3.000e+00,  0.000e+00,  0.000e+00,\n",
       "         3.000e+00,  3.000e+00,  3.000e+00,  0.000e+00,  0.000e+00,\n",
       "         3.000e+00,  0.000e+00,  3.000e+00,  3.000e+00,  0.000e+00,\n",
       "         3.000e+00,  0.000e+00,  0.000e+00,  0.000e+00,  0.000e+00,\n",
       "         0.000e+00,  0.000e+00,  0.000e+00,  0.000e+00,  2.000e+00]])"
      ]
     },
     "execution_count": 26,
     "metadata": {},
     "output_type": "execute_result"
    }
   ],
   "source": [
    "x[0]"
   ]
  },
  {
   "cell_type": "code",
   "execution_count": 27,
   "metadata": {},
   "outputs": [
    {
     "data": {
      "text/plain": [
       "array([5.600e+01, 8.150e+02, 1.715e+03, 3.515e+03, 0.000e+00, 1.000e+00,\n",
       "       0.000e+00, 1.000e+00, 3.000e+00, 0.000e+00, 8.000e+00, 2.000e+00,\n",
       "       0.000e+00, 1.000e+00, 0.000e+00, 3.000e+00, 3.000e+00, 3.000e+00,\n",
       "       0.000e+00, 0.000e+00, 3.000e+00, 0.000e+00, 3.000e+00, 3.000e+00,\n",
       "       0.000e+00, 3.000e+00, 0.000e+00, 0.000e+00, 0.000e+00, 0.000e+00,\n",
       "       0.000e+00, 0.000e+00, 0.000e+00, 0.000e+00, 1.000e+00])"
      ]
     },
     "execution_count": 27,
     "metadata": {},
     "output_type": "execute_result"
    }
   ],
   "source": [
    "y[0]"
   ]
  },
  {
   "cell_type": "markdown",
   "metadata": {},
   "source": [
    "# Old Code"
   ]
  },
  {
   "cell_type": "code",
   "execution_count": 28,
   "metadata": {},
   "outputs": [],
   "source": [
    "# WARNING: Takes 23 minutes\n",
    "\n",
    "# Splitting the dataframe by drive ID and storing each drive as its own numpy array. \n",
    "# Each drive frame has shape (?, 35), where the question mark represents the number of plays in the drive (varies from 1-34).\n",
    "# I also drop drive_id since it is non-numeric. I finally take the dataframe and insert it as a numpy array\n",
    "# Thus, each element in broken_data is an array of play vectors of length 35.\n",
    "\n",
    "# broken_data = [data[data[\"drive_id\"] == i].drop(\"drive_id\", axis=1).to_numpy() for i in ids]\n"
   ]
  },
  {
   "cell_type": "markdown",
   "metadata": {},
   "source": [
    "#### II.b.i Buffering data for consistency\n",
    "***Deprecated***\n",
    "\n",
    "The longest drive was 34 plays, so we need to have each \"drive\" frame be of shape (34, 36)"
   ]
  },
  {
   "cell_type": "code",
   "execution_count": 29,
   "metadata": {},
   "outputs": [],
   "source": [
    "# # Renaming the list\n",
    "# drive_data = broken_data\n",
    "\n",
    "# # Initializing some values\n",
    "# MAX_DRIVES = 0                      # To store the longest drive (# plays); in this data, MAX_DRIVES = 34\n",
    "# FEATURES = drive_data[0].shape[1]   # To store the num of features: 35\n",
    "\n",
    "# # Finding the longest drive\n",
    "# for drive in drive_data:\n",
    "#     if drive.shape[0] > MAX_DRIVES:\n",
    "#         MAX_DRIVES = drive.shape[0]\n",
    "\n",
    "# # Extending each drive frame by buffer of 0s\n",
    "# for i, drive in enumerate(drive_data):\n",
    "#     rows = drive.shape[0]\n",
    "\n",
    "#     # Pad with rows of 0s\n",
    "#     if rows != MAX_DRIVES:\n",
    "#         buffer = np.zeros((MAX_DRIVES-rows, FEATURES))  # Create an array of 0s to fit onto the data to ensure it is of shape (MAX_DRIVES=34, 35)\n",
    "#         drive_data[i] = np.concatenate((buffer, drive)) # Concatenating the 0-padding and the drive data into one numpy array and storing it\n",
    "\n",
    "# # Setting drive data to an NP.array\n",
    "# drive_data = np.array(drive_data)   \n"
   ]
  },
  {
   "cell_type": "code",
   "execution_count": 30,
   "metadata": {},
   "outputs": [],
   "source": [
    "# Checking that the shape is (# Drives, # Plays in each Drive, # Features) = (58729, MAX_DRIVES, FEATURES)\n",
    "# drive_data.shape"
   ]
  },
  {
   "cell_type": "code",
   "execution_count": 31,
   "metadata": {},
   "outputs": [],
   "source": [
    "# Examining data. Note the 0 padding and real data at the end.\n",
    "# drive_data[0]"
   ]
  },
  {
   "cell_type": "code",
   "execution_count": 32,
   "metadata": {},
   "outputs": [],
   "source": [
    "# Creating x and y data\n",
    "# X data is all plays except the last play\n",
    "# Y data is the last play of the drive\n",
    "# TODO: Explore what this would look like if we ignored the last play of the drive (i.e. punt, FG, TD).\n",
    "    # x.append(drive[:-2])\n",
    "    # y.append(drive[-2])\n",
    "\n",
    "# x = []\n",
    "# y = []\n",
    "\n",
    "# for drive in drive_data:\n",
    "#     x.append(drive[:-1])\n",
    "#     y.append(drive[-1])\n",
    "    \n",
    "# # Saving x and y lists as np.arrays\n",
    "# x = np.array(x)\n",
    "# y = np.array(y)"
   ]
  }
 ],
 "metadata": {
  "kernelspec": {
   "display_name": "Python 3",
   "language": "python",
   "name": "python3"
  },
  "language_info": {
   "codemirror_mode": {
    "name": "ipython",
    "version": 3
   },
   "file_extension": ".py",
   "mimetype": "text/x-python",
   "name": "python",
   "nbconvert_exporter": "python",
   "pygments_lexer": "ipython3",
   "version": "3.12.2"
  }
 },
 "nbformat": 4,
 "nbformat_minor": 2
}
